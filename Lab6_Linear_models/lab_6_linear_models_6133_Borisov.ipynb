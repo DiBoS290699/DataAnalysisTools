{
 "cells": [
  {
   "cell_type": "markdown",
   "metadata": {
    "collapsed": true
   },
   "source": [
    "# Лабораторная работа  6\n",
    "\n",
    "Линейная Регрессия в sklearn\n",
    "\n",
    "Выполнил: 6133, Борисов Д.С."
   ]
  },
  {
   "cell_type": "markdown",
   "metadata": {},
   "source": [
    "Ссылки на теорию: \n",
    "- https://habr.com/ru/company/ods/blog/323890/\n",
    "- https://habr.com/ru/post/278513/\n",
    "- https://habr.com/ru/post/279117/"
   ]
  },
  {
   "cell_type": "markdown",
   "metadata": {},
   "source": [
    "## 0 Найти и загрузить датасет, подходящий для задачи регрессии. \n",
    "\n",
    "Набор данных должен содержать не только числовые, но и категориальные/бинарные признаки. Опишите данные, что обозначает каждый столбец, какого типа (категориальный, вещественный, целочисленный, бинарный) данный столбец, при необходимости для категориальных в том числе бинарных признаков привести расшифровку их значений."
   ]
  },
  {
   "cell_type": "markdown",
   "metadata": {},
   "source": [
    "## Star dataset to predict star types\n",
    "\n",
    "A 6 class star dataset for star classification with Deep Learned approaches.\n",
    "\n",
    "**Dataset Info:**\n",
    "\n",
    "This is a dataset consisting of several features of stars.\n",
    "\n",
    "Some of them are:\n",
    "\n",
    "* __Integer__: Absolute Temperature **(in K)** - This column consists of the Surface temperatures of several stars\n",
    "* __Real__: Relative Luminosity **(L/Lo)** - This column consists of the Luminosity of several stars calculated with respect to sun(L/Lo)\n",
    "* __Real__: Relative Radius **(R/Ro)** - This column consists of the Radius of several stars calculated with respect to sun(R/Ro)\n",
    "* __Real__: Absolute Magnitude **(Mv)** - This column consists of the Absolute Visual magnitude(Mv) of several stars\n",
    "* __Categorical__: Star Color **(white,Red,Blue,Yellow,yellow-orange etc)** - This column contains the info about the colors of each star after Spectral Analysis\n",
    "* __Categorical__: Spectral Class **(O,B,A,F,G,K,M)** - This column contains info about the spectral classes of each star(O,B,A,F,G,K,M) \n",
    "* __Categorical__: Star Type **(Red Dwarf, Brown Dwarf, White Dwarf, Main Sequence , SuperGiants, HyperGiants)** - This column is the output class (6 classes ranging from 0-5) 0 -> Brown Dwarf 1-> Red Dwarf 2 -> White Dwarf 3-> Main Sequence 4 -> Supergiant 5 -> Hypergiant\n",
    "\n",
    "Lo = 3.828 x 10^26 Watts (Avg Luminosity of Sun)\n",
    "\n",
    "Ro = 6.9551 x 10^8 m (Avg Radius of Sun)"
   ]
  },
  {
   "cell_type": "markdown",
   "metadata": {},
   "source": [
    "Загрузка датасета"
   ]
  },
  {
   "cell_type": "code",
   "execution_count": 1,
   "metadata": {},
   "outputs": [],
   "source": [
    "from pandas import read_csv"
   ]
  },
  {
   "cell_type": "code",
   "execution_count": 2,
   "metadata": {},
   "outputs": [
    {
     "data": {
      "text/html": [
       "<div>\n",
       "<style scoped>\n",
       "    .dataframe tbody tr th:only-of-type {\n",
       "        vertical-align: middle;\n",
       "    }\n",
       "\n",
       "    .dataframe tbody tr th {\n",
       "        vertical-align: top;\n",
       "    }\n",
       "\n",
       "    .dataframe thead th {\n",
       "        text-align: right;\n",
       "    }\n",
       "</style>\n",
       "<table border=\"1\" class=\"dataframe\">\n",
       "  <thead>\n",
       "    <tr style=\"text-align: right;\">\n",
       "      <th></th>\n",
       "      <th>Temperature (K)</th>\n",
       "      <th>Luminosity(L/Lo)</th>\n",
       "      <th>Radius(R/Ro)</th>\n",
       "      <th>Absolute magnitude(Mv)</th>\n",
       "      <th>Star type</th>\n",
       "      <th>Star color</th>\n",
       "      <th>Spectral Class</th>\n",
       "    </tr>\n",
       "  </thead>\n",
       "  <tbody>\n",
       "    <tr>\n",
       "      <th>0</th>\n",
       "      <td>3068</td>\n",
       "      <td>0.002400</td>\n",
       "      <td>0.1700</td>\n",
       "      <td>16.12</td>\n",
       "      <td>0</td>\n",
       "      <td>red</td>\n",
       "      <td>M</td>\n",
       "    </tr>\n",
       "    <tr>\n",
       "      <th>1</th>\n",
       "      <td>3042</td>\n",
       "      <td>0.000500</td>\n",
       "      <td>0.1542</td>\n",
       "      <td>16.60</td>\n",
       "      <td>0</td>\n",
       "      <td>red</td>\n",
       "      <td>M</td>\n",
       "    </tr>\n",
       "    <tr>\n",
       "      <th>2</th>\n",
       "      <td>2600</td>\n",
       "      <td>0.000300</td>\n",
       "      <td>0.1020</td>\n",
       "      <td>18.70</td>\n",
       "      <td>0</td>\n",
       "      <td>red</td>\n",
       "      <td>M</td>\n",
       "    </tr>\n",
       "    <tr>\n",
       "      <th>3</th>\n",
       "      <td>2800</td>\n",
       "      <td>0.000200</td>\n",
       "      <td>0.1600</td>\n",
       "      <td>16.65</td>\n",
       "      <td>0</td>\n",
       "      <td>red</td>\n",
       "      <td>M</td>\n",
       "    </tr>\n",
       "    <tr>\n",
       "      <th>4</th>\n",
       "      <td>1939</td>\n",
       "      <td>0.000138</td>\n",
       "      <td>0.1030</td>\n",
       "      <td>20.06</td>\n",
       "      <td>0</td>\n",
       "      <td>red</td>\n",
       "      <td>M</td>\n",
       "    </tr>\n",
       "    <tr>\n",
       "      <th>...</th>\n",
       "      <td>...</td>\n",
       "      <td>...</td>\n",
       "      <td>...</td>\n",
       "      <td>...</td>\n",
       "      <td>...</td>\n",
       "      <td>...</td>\n",
       "      <td>...</td>\n",
       "    </tr>\n",
       "    <tr>\n",
       "      <th>235</th>\n",
       "      <td>38940</td>\n",
       "      <td>374830.000000</td>\n",
       "      <td>1356.0000</td>\n",
       "      <td>-9.93</td>\n",
       "      <td>5</td>\n",
       "      <td>blue</td>\n",
       "      <td>O</td>\n",
       "    </tr>\n",
       "    <tr>\n",
       "      <th>236</th>\n",
       "      <td>30839</td>\n",
       "      <td>834042.000000</td>\n",
       "      <td>1194.0000</td>\n",
       "      <td>-10.63</td>\n",
       "      <td>5</td>\n",
       "      <td>blue</td>\n",
       "      <td>O</td>\n",
       "    </tr>\n",
       "    <tr>\n",
       "      <th>237</th>\n",
       "      <td>8829</td>\n",
       "      <td>537493.000000</td>\n",
       "      <td>1423.0000</td>\n",
       "      <td>-10.73</td>\n",
       "      <td>5</td>\n",
       "      <td>white</td>\n",
       "      <td>A</td>\n",
       "    </tr>\n",
       "    <tr>\n",
       "      <th>238</th>\n",
       "      <td>9235</td>\n",
       "      <td>404940.000000</td>\n",
       "      <td>1112.0000</td>\n",
       "      <td>-11.23</td>\n",
       "      <td>5</td>\n",
       "      <td>white</td>\n",
       "      <td>A</td>\n",
       "    </tr>\n",
       "    <tr>\n",
       "      <th>239</th>\n",
       "      <td>37882</td>\n",
       "      <td>294903.000000</td>\n",
       "      <td>1783.0000</td>\n",
       "      <td>-7.80</td>\n",
       "      <td>5</td>\n",
       "      <td>blue</td>\n",
       "      <td>O</td>\n",
       "    </tr>\n",
       "  </tbody>\n",
       "</table>\n",
       "<p>240 rows × 7 columns</p>\n",
       "</div>"
      ],
      "text/plain": [
       "     Temperature (K)  Luminosity(L/Lo)  Radius(R/Ro)  Absolute magnitude(Mv)  \\\n",
       "0               3068          0.002400        0.1700                   16.12   \n",
       "1               3042          0.000500        0.1542                   16.60   \n",
       "2               2600          0.000300        0.1020                   18.70   \n",
       "3               2800          0.000200        0.1600                   16.65   \n",
       "4               1939          0.000138        0.1030                   20.06   \n",
       "..               ...               ...           ...                     ...   \n",
       "235            38940     374830.000000     1356.0000                   -9.93   \n",
       "236            30839     834042.000000     1194.0000                  -10.63   \n",
       "237             8829     537493.000000     1423.0000                  -10.73   \n",
       "238             9235     404940.000000     1112.0000                  -11.23   \n",
       "239            37882     294903.000000     1783.0000                   -7.80   \n",
       "\n",
       "     Star type Star color Spectral Class  \n",
       "0            0        red              M  \n",
       "1            0        red              M  \n",
       "2            0        red              M  \n",
       "3            0        red              M  \n",
       "4            0        red              M  \n",
       "..         ...        ...            ...  \n",
       "235          5       blue              O  \n",
       "236          5       blue              O  \n",
       "237          5      white              A  \n",
       "238          5      white              A  \n",
       "239          5       blue              O  \n",
       "\n",
       "[240 rows x 7 columns]"
      ]
     },
     "execution_count": 2,
     "metadata": {},
     "output_type": "execute_result"
    }
   ],
   "source": [
    "dataset = read_csv('../data/Star_dataset.csv')\n",
    "dataset"
   ]
  },
  {
   "cell_type": "markdown",
   "metadata": {},
   "source": [
    "## 1 Временно удалить категориальные / бинарные признаки, оставив только вещественные (потом вернёмся к ним позже)."
   ]
  },
  {
   "cell_type": "code",
   "execution_count": 3,
   "metadata": {},
   "outputs": [
    {
     "data": {
      "text/plain": [
       "(240, 5)"
      ]
     },
     "execution_count": 3,
     "metadata": {},
     "output_type": "execute_result"
    }
   ],
   "source": [
    "labels = dataset['Star type']\n",
    "cut_dataset = dataset.drop(columns=['Star color', 'Spectral Class'])\n",
    "cut_dataset.shape"
   ]
  },
  {
   "cell_type": "markdown",
   "metadata": {},
   "source": [
    "## 2 Визуализировать heatmap-матрицу кореллированности признаков. См. [пример.](https://stackoverflow.com/questions/39409866/correlation-heatmap)"
   ]
  },
  {
   "cell_type": "code",
   "execution_count": 4,
   "metadata": {},
   "outputs": [],
   "source": [
    "from seaborn import heatmap"
   ]
  },
  {
   "cell_type": "code",
   "execution_count": 5,
   "metadata": {},
   "outputs": [
    {
     "data": {
      "text/plain": [
       "<AxesSubplot:>"
      ]
     },
     "execution_count": 5,
     "metadata": {},
     "output_type": "execute_result"
    },
    {
     "data": {
      "image/png": "[encoded data removed]",
      "text/plain": [
       "<Figure size 432x288 with 2 Axes>"
      ]
     },
     "metadata": {
      "needs_background": "light"
     },
     "output_type": "display_data"
    }
   ],
   "source": [
    "corr = cut_dataset.corr()\n",
    "heatmap(corr, cmap=\"Blues\", annot=True)"
   ]
  },
  {
   "cell_type": "markdown",
   "metadata": {},
   "source": [
    "## 3 Визуализировать взаимосвязь между целевой переменной и каждым признаком \n",
    "(с помощью srs.pairplot или pandas.plotting.scatter_matrix или как-то ещё). Лучше всего, если будете строить диаграмму попарного распределения не между ВСЕМИ парами признаков, а только между признаками и целевой переменной. См. [пример.](https://stackoverflow.com/questions/31966494/compare-1-independent-vs-many-dependent-variables-using-seaborn-pairplot-in-an-h)\n"
   ]
  },
  {
   "cell_type": "code",
   "execution_count": 6,
   "metadata": {},
   "outputs": [],
   "source": [
    "from seaborn import pairplot"
   ]
  },
  {
   "cell_type": "code",
   "execution_count": 7,
   "metadata": {},
   "outputs": [
    {
     "data": {
      "text/plain": [
       "<seaborn.axisgrid.PairGrid at 0x23fa92885e0>"
      ]
     },
     "execution_count": 7,
     "metadata": {},
     "output_type": "execute_result"
    },
    {
     "data": {
      "image/png": "[encoded data removed]",
      "text/plain": [
       "<Figure size 180x720 with 4 Axes>"
      ]
     },
     "metadata": {
      "needs_background": "light"
     },
     "output_type": "display_data"
    }
   ],
   "source": [
    "pairplot(data=cut_dataset, x_vars='Star type', y_vars=cut_dataset.columns.drop('Star type'))"
   ]
  },
  {
   "cell_type": "markdown",
   "metadata": {},
   "source": [
    "## 4  Разделить набор данных на обучающую и тестовую выборки"
   ]
  },
  {
   "cell_type": "markdown",
   "metadata": {},
   "source": [
    "Удаление целевой переменной из датасета"
   ]
  },
  {
   "cell_type": "code",
   "execution_count": 8,
   "metadata": {},
   "outputs": [],
   "source": [
    "cut_data = cut_dataset.drop(columns='Star type')"
   ]
  },
  {
   "cell_type": "markdown",
   "metadata": {},
   "source": [
    "Разбиение данных на обучающие и тестовые с долей тестовых данных 0.3"
   ]
  },
  {
   "cell_type": "code",
   "execution_count": 9,
   "metadata": {},
   "outputs": [],
   "source": [
    "from sklearn.model_selection import train_test_split"
   ]
  },
  {
   "cell_type": "code",
   "execution_count": 10,
   "metadata": {},
   "outputs": [],
   "source": [
    "Xtrain, Xtest, Ytrain, Ytest = train_test_split(cut_data, labels, test_size=0.3, random_state=123)"
   ]
  },
  {
   "cell_type": "code",
   "execution_count": 11,
   "metadata": {},
   "outputs": [
    {
     "data": {
      "text/plain": [
       "((168, 4), (72, 4), (168,), (72,))"
      ]
     },
     "execution_count": 11,
     "metadata": {},
     "output_type": "execute_result"
    }
   ],
   "source": [
    "Xtrain.shape, Xtest.shape, Ytrain.shape, Ytest.shape"
   ]
  },
  {
   "cell_type": "markdown",
   "metadata": {},
   "source": [
    "## **5 Линейная регрессия**\n",
    "\n",
    "5.1 Обучить модель линейной регрессии (`LinearRegression`)"
   ]
  },
  {
   "cell_type": "markdown",
   "metadata": {},
   "source": [
    "5.2 Вывести метрики MAE, MSE и R2 на обущающем и тестовом наборе"
   ]
  },
  {
   "cell_type": "markdown",
   "metadata": {},
   "source": [
    "5.3 Вывести `model.coef_` и `model.intercept_`"
   ]
  },
  {
   "cell_type": "markdown",
   "metadata": {},
   "source": [
    "5.4 Построить график (barh) с важностью коэфициентов при соответствующих признаках (строится точно так же, как мы строили графики для feature_importance в теме с деревьями). Желательно, чтобы сверху вниз шли коэффициенты по убыванию, а названия соответствующих признаков подписаны по вертикальной оси. "
   ]
  },
  {
   "cell_type": "markdown",
   "metadata": {},
   "source": [
    "Обучение модели `LinearRegression`"
   ]
  },
  {
   "cell_type": "code",
   "execution_count": 12,
   "metadata": {},
   "outputs": [],
   "source": [
    "from sklearn.linear_model import LinearRegression"
   ]
  },
  {
   "cell_type": "code",
   "execution_count": 13,
   "metadata": {},
   "outputs": [
    {
     "data": {
      "text/plain": [
       "LinearRegression()"
      ]
     },
     "execution_count": 13,
     "metadata": {},
     "output_type": "execute_result"
    }
   ],
   "source": [
    "lr_model = LinearRegression()\n",
    "lr_model.fit(Xtrain, Ytrain)"
   ]
  },
  {
   "cell_type": "markdown",
   "metadata": {},
   "source": [
    "Общая функция оценки классификации для модели, высчитывающая `MAE, MSE, R2, model.coef_ и model.intercept_`, а также строящая **barh** с важностью коэффициентов при соответствующих признаках "
   ]
  },
  {
   "cell_type": "code",
   "execution_count": 14,
   "metadata": {},
   "outputs": [],
   "source": [
    "from sklearn.metrics import mean_absolute_error, mean_squared_error, r2_score\n",
    "from pandas import DataFrame"
   ]
  },
  {
   "cell_type": "code",
   "execution_count": 15,
   "metadata": {},
   "outputs": [],
   "source": [
    "def common_report(model, Xtrain, Xtest, Ytrain, Ytest, get_info=False):\n",
    "    \n",
    "    train_pred = model.predict(Xtrain)\n",
    "    test_pred = model.predict(Xtest)\n",
    "\n",
    "    print(f'Отчёт по классификации моделью {model}:')\n",
    "\n",
    "    train_mae = mean_absolute_error(Ytrain, train_pred)\n",
    "    train_mse = mean_squared_error(Ytrain, train_pred)\n",
    "    train_r2 = r2_score(Ytrain, train_pred)\n",
    "    test_mae = mean_absolute_error(Ytest, test_pred)\n",
    "    test_mse = mean_squared_error(Ytest, test_pred)\n",
    "    test_r2 = r2_score(Ytest, test_pred)\n",
    "    \n",
    "    print('------------- Метрики -------------')\n",
    "    print(f'train MAE: {train_mae}\\n test MAE: {test_mae}')\n",
    "    print(f'train MSE: {train_mse}\\n test MSE: {test_mse}')\n",
    "    print(f'train R2: {train_r2}\\n test R2: {test_r2}')\n",
    "\n",
    "    print('------------- Атрибуты -------------')\n",
    "    coef = DataFrame(data=model.coef_, index=Xtrain.columns, columns=['Features'])\n",
    "    coef.sort_values(by='Features', ascending=False, inplace=True)\n",
    "\n",
    "    print(f'model.coef_:\\n{coef}\\n')\n",
    "    print(f'model.intercept_: {model.intercept_}')\n",
    "\n",
    "    coef.plot.barh(align='center')\n",
    "\n",
    "    # Датафрейм с основными данными\n",
    "    info = DataFrame({'model':[model, model], \n",
    "                    'MAE':[train_mae, test_mae], \n",
    "                    'MSE':[train_mse, test_mse], \n",
    "                    'R2':[train_r2, test_r2]}, index=['Train', 'Test'])\n",
    "\n",
    "    return info if get_info else None"
   ]
  },
  {
   "cell_type": "code",
   "execution_count": 16,
   "metadata": {},
   "outputs": [
    {
     "name": "stdout",
     "output_type": "stream",
     "text": [
      "Отчёт по классификации моделью LinearRegression():\n",
      "------------- Метрики -------------\n",
      "train MAE: 0.3426826595000748\n",
      " test MAE: 0.43507194380690173\n",
      "train MSE: 0.19724036910982992\n",
      " test MSE: 0.28502050517986155\n",
      "train R2: 0.9334101414144038\n",
      " test R2: 0.8979595097477623\n",
      "------------- Атрибуты -------------\n",
      "model.coef_:\n",
      "                            Features\n",
      "Radius(R/Ro)            3.927153e-04\n",
      "Temperature (K)         5.400837e-06\n",
      "Luminosity(L/Lo)       -8.822212e-08\n",
      "Absolute magnitude(Mv) -1.434524e-01\n",
      "\n",
      "model.intercept_: 2.9571203995655173\n"
     ]
    },
    {
     "data": {
      "text/html": [
       "<div>\n",
       "<style scoped>\n",
       "    .dataframe tbody tr th:only-of-type {\n",
       "        vertical-align: middle;\n",
       "    }\n",
       "\n",
       "    .dataframe tbody tr th {\n",
       "        vertical-align: top;\n",
       "    }\n",
       "\n",
       "    .dataframe thead th {\n",
       "        text-align: right;\n",
       "    }\n",
       "</style>\n",
       "<table border=\"1\" class=\"dataframe\">\n",
       "  <thead>\n",
       "    <tr style=\"text-align: right;\">\n",
       "      <th></th>\n",
       "      <th>model</th>\n",
       "      <th>MAE</th>\n",
       "      <th>MSE</th>\n",
       "      <th>R2</th>\n",
       "    </tr>\n",
       "  </thead>\n",
       "  <tbody>\n",
       "    <tr>\n",
       "      <th>Train</th>\n",
       "      <td>LinearRegression()</td>\n",
       "      <td>0.342683</td>\n",
       "      <td>0.197240</td>\n",
       "      <td>0.93341</td>\n",
       "    </tr>\n",
       "    <tr>\n",
       "      <th>Test</th>\n",
       "      <td>LinearRegression()</td>\n",
       "      <td>0.435072</td>\n",
       "      <td>0.285021</td>\n",
       "      <td>0.89796</td>\n",
       "    </tr>\n",
       "  </tbody>\n",
       "</table>\n",
       "</div>"
      ],
      "text/plain": [
       "                    model       MAE       MSE       R2\n",
       "Train  LinearRegression()  0.342683  0.197240  0.93341\n",
       "Test   LinearRegression()  0.435072  0.285021  0.89796"
      ]
     },
     "execution_count": 16,
     "metadata": {},
     "output_type": "execute_result"
    },
    {
     "data": {
      "image/png": "[encoded data removed]",
      "text/plain": [
       "<Figure size 432x288 with 1 Axes>"
      ]
     },
     "metadata": {
      "needs_background": "light"
     },
     "output_type": "display_data"
    }
   ],
   "source": [
    "lr_report = common_report(lr_model, Xtrain, Xtest, Ytrain, Ytest, get_info=True)\n",
    "lr_report"
   ]
  },
  {
   "cell_type": "markdown",
   "metadata": {},
   "source": [
    "## **6 Модель `Lasso`**\n",
    "\n",
    "6.1 Обучить модель регрессии (`Lasso`), с помощью `GridSearchCV` подобрать параметр alpha, дальше работаем с лучшей моделью\n",
    "\n",
    "6.1 Для лучшей модели вывести метрики MAE, MSE и R2 на обущающем и тестовом наборе\n",
    "\n",
    "6.3 Для лучшей модели вывести `model.coef_` и `model.intercept_`\n",
    "\n",
    "6.4 Для лучшей модели построить график (barh) с важностью коэфициентов при соответствующих признаках\n",
    "\n"
   ]
  },
  {
   "cell_type": "code",
   "execution_count": 17,
   "metadata": {},
   "outputs": [],
   "source": [
    "from sklearn.linear_model import Lasso\n",
    "from sklearn.model_selection import GridSearchCV\n",
    "from numpy import linspace\n",
    "from warnings import filterwarnings\n",
    "filterwarnings('ignore')"
   ]
  },
  {
   "cell_type": "code",
   "execution_count": 18,
   "metadata": {},
   "outputs": [
    {
     "data": {
      "text/plain": [
       "Lasso(alpha=0.1)"
      ]
     },
     "execution_count": 18,
     "metadata": {},
     "output_type": "execute_result"
    }
   ],
   "source": [
    "lasso_model = GridSearchCV(Lasso(), param_grid={'alpha': linspace(0, 5, 51)}, cv=5)\n",
    "lasso_model.fit(Xtrain, Ytrain)\n",
    "lasso_model = lasso_model.best_estimator_\n",
    "lasso_model"
   ]
  },
  {
   "cell_type": "code",
   "execution_count": 19,
   "metadata": {},
   "outputs": [
    {
     "name": "stdout",
     "output_type": "stream",
     "text": [
      "Отчёт по классификации моделью Lasso(alpha=0.1):\n",
      "------------- Метрики -------------\n",
      "train MAE: 0.3457427722936276\n",
      " test MAE: 0.43400971441109826\n",
      "train MSE: 0.1974661955877612\n",
      " test MSE: 0.2823676785831329\n",
      "train R2: 0.9333339006666391\n",
      " test R2: 0.8989092509823922\n",
      "------------- Атрибуты -------------\n",
      "model.coef_:\n",
      "                            Features\n",
      "Radius(R/Ro)            4.080827e-04\n",
      "Temperature (K)         5.909386e-06\n",
      "Luminosity(L/Lo)       -2.910674e-08\n",
      "Absolute magnitude(Mv) -1.411782e-01\n",
      "\n",
      "model.intercept_: 2.9325755162424305\n"
     ]
    },
    {
     "data": {
      "text/html": [
       "<div>\n",
       "<style scoped>\n",
       "    .dataframe tbody tr th:only-of-type {\n",
       "        vertical-align: middle;\n",
       "    }\n",
       "\n",
       "    .dataframe tbody tr th {\n",
       "        vertical-align: top;\n",
       "    }\n",
       "\n",
       "    .dataframe thead th {\n",
       "        text-align: right;\n",
       "    }\n",
       "</style>\n",
       "<table border=\"1\" class=\"dataframe\">\n",
       "  <thead>\n",
       "    <tr style=\"text-align: right;\">\n",
       "      <th></th>\n",
       "      <th>model</th>\n",
       "      <th>MAE</th>\n",
       "      <th>MSE</th>\n",
       "      <th>R2</th>\n",
       "    </tr>\n",
       "  </thead>\n",
       "  <tbody>\n",
       "    <tr>\n",
       "      <th>Train</th>\n",
       "      <td>Lasso(alpha=0.1)</td>\n",
       "      <td>0.345743</td>\n",
       "      <td>0.197466</td>\n",
       "      <td>0.933334</td>\n",
       "    </tr>\n",
       "    <tr>\n",
       "      <th>Test</th>\n",
       "      <td>Lasso(alpha=0.1)</td>\n",
       "      <td>0.434010</td>\n",
       "      <td>0.282368</td>\n",
       "      <td>0.898909</td>\n",
       "    </tr>\n",
       "  </tbody>\n",
       "</table>\n",
       "</div>"
      ],
      "text/plain": [
       "                  model       MAE       MSE        R2\n",
       "Train  Lasso(alpha=0.1)  0.345743  0.197466  0.933334\n",
       "Test   Lasso(alpha=0.1)  0.434010  0.282368  0.898909"
      ]
     },
     "execution_count": 19,
     "metadata": {},
     "output_type": "execute_result"
    },
    {
     "data": {
      "image/png": "[encoded data removed]",
      "text/plain": [
       "<Figure size 432x288 with 1 Axes>"
      ]
     },
     "metadata": {
      "needs_background": "light"
     },
     "output_type": "display_data"
    }
   ],
   "source": [
    "lasso_report = common_report(lasso_model, Xtrain, Xtest, Ytrain, Ytest, get_info=True)\n",
    "lasso_report"
   ]
  },
  {
   "cell_type": "markdown",
   "metadata": {},
   "source": [
    "## **7 Модель Ridge**\n",
    "\n",
    "7.1 Обучить модель регрессии (`Ridge`), с помощью `GridSearchCV`  подобрать параметр alpha, дальше работаем с лучшей моделью\n",
    "\n",
    "7.2 Для лучшей модели вывести метрики MAE, MSE и R2 на обущающем и тестовом наборе\n",
    "\n",
    "7.3 Для лучшей модели вывести model.coef_ и model.intercept_\n",
    "\n",
    "7.4  Для лучшей модели построить график (barh) с важностью коэфициентов при соответствующих признаках"
   ]
  },
  {
   "cell_type": "code",
   "execution_count": 20,
   "metadata": {},
   "outputs": [],
   "source": [
    "from sklearn.linear_model import Ridge"
   ]
  },
  {
   "cell_type": "code",
   "execution_count": 21,
   "metadata": {},
   "outputs": [
    {
     "data": {
      "text/plain": [
       "Ridge(alpha=82.0)"
      ]
     },
     "execution_count": 21,
     "metadata": {},
     "output_type": "execute_result"
    }
   ],
   "source": [
    "ridge_model = GridSearchCV(Ridge(), param_grid={'alpha': linspace(0, 100, 101)}, cv=5)\n",
    "ridge_model.fit(Xtrain, Ytrain)\n",
    "ridge_model = ridge_model.best_estimator_\n",
    "ridge_model"
   ]
  },
  {
   "cell_type": "code",
   "execution_count": 22,
   "metadata": {},
   "outputs": [
    {
     "name": "stdout",
     "output_type": "stream",
     "text": [
      "Отчёт по классификации моделью Ridge(alpha=82.0):\n",
      "------------- Метрики -------------\n",
      "train MAE: 0.3447439005651124\n",
      " test MAE: 0.4343054794469883\n",
      "train MSE: 0.19735020086606903\n",
      " test MSE: 0.28310347354359067\n",
      "train R2: 0.9333730613726803\n",
      " test R2: 0.8986458282562173\n",
      "------------- Атрибуты -------------\n",
      "model.coef_:\n",
      "                            Features\n",
      "Radius(R/Ro)            4.038010e-04\n",
      "Temperature (K)         5.759304e-06\n",
      "Luminosity(L/Lo)       -4.769034e-08\n",
      "Absolute magnitude(Mv) -1.418662e-01\n",
      "\n",
      "model.intercept_: 2.939948498725188\n"
     ]
    },
    {
     "data": {
      "text/html": [
       "<div>\n",
       "<style scoped>\n",
       "    .dataframe tbody tr th:only-of-type {\n",
       "        vertical-align: middle;\n",
       "    }\n",
       "\n",
       "    .dataframe tbody tr th {\n",
       "        vertical-align: top;\n",
       "    }\n",
       "\n",
       "    .dataframe thead th {\n",
       "        text-align: right;\n",
       "    }\n",
       "</style>\n",
       "<table border=\"1\" class=\"dataframe\">\n",
       "  <thead>\n",
       "    <tr style=\"text-align: right;\">\n",
       "      <th></th>\n",
       "      <th>model</th>\n",
       "      <th>MAE</th>\n",
       "      <th>MSE</th>\n",
       "      <th>R2</th>\n",
       "    </tr>\n",
       "  </thead>\n",
       "  <tbody>\n",
       "    <tr>\n",
       "      <th>Train</th>\n",
       "      <td>Ridge(alpha=82.0)</td>\n",
       "      <td>0.344744</td>\n",
       "      <td>0.197350</td>\n",
       "      <td>0.933373</td>\n",
       "    </tr>\n",
       "    <tr>\n",
       "      <th>Test</th>\n",
       "      <td>Ridge(alpha=82.0)</td>\n",
       "      <td>0.434305</td>\n",
       "      <td>0.283103</td>\n",
       "      <td>0.898646</td>\n",
       "    </tr>\n",
       "  </tbody>\n",
       "</table>\n",
       "</div>"
      ],
      "text/plain": [
       "                   model       MAE       MSE        R2\n",
       "Train  Ridge(alpha=82.0)  0.344744  0.197350  0.933373\n",
       "Test   Ridge(alpha=82.0)  0.434305  0.283103  0.898646"
      ]
     },
     "execution_count": 22,
     "metadata": {},
     "output_type": "execute_result"
    },
    {
     "data": {
      "image/png": "[encoded data removed]",
      "text/plain": [
       "<Figure size 432x288 with 1 Axes>"
      ]
     },
     "metadata": {
      "needs_background": "light"
     },
     "output_type": "display_data"
    }
   ],
   "source": [
    "ridge_report = common_report(ridge_model, Xtrain, Xtest, Ytrain, Ytest, get_info=True)\n",
    "ridge_report"
   ]
  },
  {
   "cell_type": "markdown",
   "metadata": {},
   "source": [
    "## **8 Модель `ElasticNet`**\n",
    "\n",
    "8.1 Обучить модель регрессии (ElasticNet), с помощью GridSearchCV подобрать параметры alpha и l1_ratio (в пределах 0:1), дальше работаем с лучшей моделью\n",
    "\n",
    "8.2 Для лучшей модели вывести метрики MAE, MSE и R2 на обущающем и тестовом наборе\n",
    "\n",
    "8.3 Для лучшей модели вывести model.coef_ и model.intercept_\n",
    "\n",
    "8.4 Для лучшей модели построить график (barh) с важностью коэфициентов при соответствующих признаках"
   ]
  },
  {
   "cell_type": "code",
   "execution_count": 23,
   "metadata": {},
   "outputs": [],
   "source": [
    "from sklearn.linear_model import ElasticNet"
   ]
  },
  {
   "cell_type": "code",
   "execution_count": 24,
   "metadata": {},
   "outputs": [
    {
     "data": {
      "text/plain": [
       "ElasticNet(alpha=0.6000000000000001, l1_ratio=0.0)"
      ]
     },
     "execution_count": 24,
     "metadata": {},
     "output_type": "execute_result"
    }
   ],
   "source": [
    "en_model = GridSearchCV(ElasticNet(), param_grid={'alpha': linspace(0, 10, 101), 'l1_ratio': linspace(0, 1, 21)}, cv=5)\n",
    "en_model.fit(Xtrain, Ytrain)\n",
    "en_model = en_model.best_estimator_\n",
    "en_model"
   ]
  },
  {
   "cell_type": "code",
   "execution_count": 25,
   "metadata": {},
   "outputs": [
    {
     "name": "stdout",
     "output_type": "stream",
     "text": [
      "Отчёт по классификации моделью ElasticNet(alpha=0.6000000000000001, l1_ratio=0.0):\n",
      "------------- Метрики -------------\n",
      "train MAE: 0.3452772993547532\n",
      " test MAE: 0.4341321368523869\n",
      "train MSE: 0.19740549759426138\n",
      " test MSE: 0.28269999928301615\n",
      "train R2: 0.9333543927739183\n",
      " test R2: 0.898790276499782\n",
      "------------- Атрибуты -------------\n",
      "model.coef_:\n",
      "                            Features\n",
      "Radius(R/Ro)            4.063081e-04\n",
      "Temperature (K)         5.840375e-06\n",
      "Luminosity(L/Lo)       -3.852366e-08\n",
      "Absolute magnitude(Mv) -1.415075e-01\n",
      "\n",
      "model.intercept_: 2.93606490840982\n"
     ]
    },
    {
     "data": {
      "text/html": [
       "<div>\n",
       "<style scoped>\n",
       "    .dataframe tbody tr th:only-of-type {\n",
       "        vertical-align: middle;\n",
       "    }\n",
       "\n",
       "    .dataframe tbody tr th {\n",
       "        vertical-align: top;\n",
       "    }\n",
       "\n",
       "    .dataframe thead th {\n",
       "        text-align: right;\n",
       "    }\n",
       "</style>\n",
       "<table border=\"1\" class=\"dataframe\">\n",
       "  <thead>\n",
       "    <tr style=\"text-align: right;\">\n",
       "      <th></th>\n",
       "      <th>model</th>\n",
       "      <th>MAE</th>\n",
       "      <th>MSE</th>\n",
       "      <th>R2</th>\n",
       "    </tr>\n",
       "  </thead>\n",
       "  <tbody>\n",
       "    <tr>\n",
       "      <th>Train</th>\n",
       "      <td>ElasticNet(alpha=0.6000000000000001, l1_ratio=...</td>\n",
       "      <td>0.345277</td>\n",
       "      <td>0.197405</td>\n",
       "      <td>0.933354</td>\n",
       "    </tr>\n",
       "    <tr>\n",
       "      <th>Test</th>\n",
       "      <td>ElasticNet(alpha=0.6000000000000001, l1_ratio=...</td>\n",
       "      <td>0.434132</td>\n",
       "      <td>0.282700</td>\n",
       "      <td>0.898790</td>\n",
       "    </tr>\n",
       "  </tbody>\n",
       "</table>\n",
       "</div>"
      ],
      "text/plain": [
       "                                                   model       MAE       MSE  \\\n",
       "Train  ElasticNet(alpha=0.6000000000000001, l1_ratio=...  0.345277  0.197405   \n",
       "Test   ElasticNet(alpha=0.6000000000000001, l1_ratio=...  0.434132  0.282700   \n",
       "\n",
       "             R2  \n",
       "Train  0.933354  \n",
       "Test   0.898790  "
      ]
     },
     "execution_count": 25,
     "metadata": {},
     "output_type": "execute_result"
    },
    {
     "data": {
      "image/png": "[encoded data removed]",
      "text/plain": [
       "<Figure size 432x288 with 1 Axes>"
      ]
     },
     "metadata": {
      "needs_background": "light"
     },
     "output_type": "display_data"
    }
   ],
   "source": [
    "en_report = common_report(en_model, Xtrain, Xtest, Ytrain, Ytest, get_info=True)\n",
    "en_report"
   ]
  },
  {
   "cell_type": "markdown",
   "metadata": {},
   "source": [
    "## 9 Выбрать лучшую модель, указать значения MAE, MSE и R2 на тестовом наборе"
   ]
  },
  {
   "cell_type": "markdown",
   "metadata": {},
   "source": [
    "Построение датафреймов со значениями MAE, MSE, R2"
   ]
  },
  {
   "cell_type": "code",
   "execution_count": 26,
   "metadata": {},
   "outputs": [
    {
     "data": {
      "text/plain": [
       "(                                                    MAE (desc)\n",
       " Lasso(alpha=0.1)                                      0.434010\n",
       " ElasticNet(alpha=0.6000000000000001, l1_ratio=0.0)    0.434132\n",
       " Ridge(alpha=82.0)                                     0.434305\n",
       " LinearRegression()                                    0.435072,\n",
       "                                                     MSE (desc)\n",
       " Lasso(alpha=0.1)                                      0.282368\n",
       " ElasticNet(alpha=0.6000000000000001, l1_ratio=0.0)    0.282700\n",
       " Ridge(alpha=82.0)                                     0.283103\n",
       " LinearRegression()                                    0.285021,\n",
       "                                                     R2 (asc)\n",
       " Lasso(alpha=0.1)                                    0.898909\n",
       " ElasticNet(alpha=0.6000000000000001, l1_ratio=0.0)  0.898790\n",
       " Ridge(alpha=82.0)                                   0.898646\n",
       " LinearRegression()                                  0.897960)"
      ]
     },
     "execution_count": 26,
     "metadata": {},
     "output_type": "execute_result"
    }
   ],
   "source": [
    "MAE, MSE, R2 = {}, {}, {}\n",
    "for report in [lr_report, lasso_report, ridge_report, en_report]:\n",
    "    MAE[report.at['Test', 'model']] = report.at['Test', 'MAE']\n",
    "    MSE[report.at['Test', 'model']] = report.at['Test', 'MSE']\n",
    "    R2[report.at['Test', 'model']] = report.at['Test', 'R2']\n",
    "MAE = DataFrame(MAE, index=['MAE (desc)']).T.sort_values('MAE (desc)', ascending=True)\n",
    "MSE = DataFrame(MSE, index=['MSE (desc)']).T.sort_values('MSE (desc)', ascending=True)\n",
    "R2 = DataFrame(R2, index=['R2 (asc)']).T.sort_values('R2 (asc)', ascending=False)\n",
    "\n",
    "MAE, MSE, R2"
   ]
  },
  {
   "cell_type": "markdown",
   "metadata": {},
   "source": [
    "**Лучшей моделью оказалась модель `Lasso(alpha=0.1)`**"
   ]
  },
  {
   "cell_type": "markdown",
   "metadata": {},
   "source": [
    "## 10  Возвращаем категориальные / бинарные признаки на место в датасет, \n",
    "категориальные признаки преобразуем в набор бинарных через `pd.get_dummies( ..., drop_first = True )`. Обучаем лучшую модель."
   ]
  },
  {
   "cell_type": "code",
   "execution_count": 27,
   "metadata": {},
   "outputs": [],
   "source": [
    "from pandas import get_dummies"
   ]
  },
  {
   "cell_type": "code",
   "execution_count": 28,
   "metadata": {},
   "outputs": [],
   "source": [
    "dummy_dataset = get_dummies(dataset, drop_first=True)\n",
    "dummy_dataset.drop(columns='Star type', inplace=True)"
   ]
  },
  {
   "cell_type": "code",
   "execution_count": 29,
   "metadata": {},
   "outputs": [],
   "source": [
    "dum_Xtrain, dum_Xtest, dum_Ytrain, dum_Ytest = train_test_split(dummy_dataset, labels, test_size=0.3, random_state=123)"
   ]
  },
  {
   "cell_type": "code",
   "execution_count": 30,
   "metadata": {},
   "outputs": [
    {
     "data": {
      "text/plain": [
       "Lasso(alpha=0.1)"
      ]
     },
     "execution_count": 30,
     "metadata": {},
     "output_type": "execute_result"
    }
   ],
   "source": [
    "best_model = Lasso().set_params(**lasso_report.at['Test', 'model'].get_params())\n",
    "best_model.fit(dum_Xtrain, dum_Ytrain)"
   ]
  },
  {
   "cell_type": "markdown",
   "metadata": {},
   "source": [
    "## 11 Как изменились метрики MAE и MSE на тестовом наборе, вывести их и сделать выводы"
   ]
  },
  {
   "cell_type": "code",
   "execution_count": 31,
   "metadata": {},
   "outputs": [
    {
     "name": "stdout",
     "output_type": "stream",
     "text": [
      "Отчёт по классификации моделью Lasso(alpha=0.1):\n",
      "------------- Метрики -------------\n",
      "train MAE: 0.34574292666432355\n",
      " test MAE: 0.434009541009364\n",
      "train MSE: 0.19746620573596696\n",
      " test MSE: 0.28236750342903244\n",
      "train R2: 0.9333338972405272\n",
      " test R2: 0.8989093136894956\n",
      "------------- Атрибуты -------------\n",
      "model.coef_:\n",
      "                                   Features\n",
      "Radius(R/Ro)                   4.080849e-04\n",
      "Temperature (K)                5.909450e-06\n",
      "Star color_whitish             0.000000e+00\n",
      "Spectral Class_M              -0.000000e+00\n",
      "Spectral Class_K               0.000000e+00\n",
      "Spectral Class_G               0.000000e+00\n",
      "Spectral Class_F               0.000000e+00\n",
      "Spectral Class_B               0.000000e+00\n",
      "Star color_yellowish-white     0.000000e+00\n",
      "Star color_yellowish           0.000000e+00\n",
      "Star color_yellow-white        0.000000e+00\n",
      "Star color_white-yellow        0.000000e+00\n",
      "Star color_white               0.000000e+00\n",
      "Star color_red                -0.000000e+00\n",
      "Star color_pale-yellow-orange  0.000000e+00\n",
      "Star color_orange-red          0.000000e+00\n",
      "Star color_orange              0.000000e+00\n",
      "Star color_blue-white          0.000000e+00\n",
      "Spectral Class_O              -0.000000e+00\n",
      "Luminosity(L/Lo)              -2.911001e-08\n",
      "Absolute magnitude(Mv)        -1.411782e-01\n",
      "\n",
      "model.intercept_: 2.9325744789491557\n"
     ]
    },
    {
     "data": {
      "text/html": [
       "<div>\n",
       "<style scoped>\n",
       "    .dataframe tbody tr th:only-of-type {\n",
       "        vertical-align: middle;\n",
       "    }\n",
       "\n",
       "    .dataframe tbody tr th {\n",
       "        vertical-align: top;\n",
       "    }\n",
       "\n",
       "    .dataframe thead th {\n",
       "        text-align: right;\n",
       "    }\n",
       "</style>\n",
       "<table border=\"1\" class=\"dataframe\">\n",
       "  <thead>\n",
       "    <tr style=\"text-align: right;\">\n",
       "      <th></th>\n",
       "      <th>model</th>\n",
       "      <th>MAE</th>\n",
       "      <th>MSE</th>\n",
       "      <th>R2</th>\n",
       "    </tr>\n",
       "  </thead>\n",
       "  <tbody>\n",
       "    <tr>\n",
       "      <th>Train</th>\n",
       "      <td>Lasso(alpha=0.1)</td>\n",
       "      <td>0.345743</td>\n",
       "      <td>0.197466</td>\n",
       "      <td>0.933334</td>\n",
       "    </tr>\n",
       "    <tr>\n",
       "      <th>Test</th>\n",
       "      <td>Lasso(alpha=0.1)</td>\n",
       "      <td>0.434010</td>\n",
       "      <td>0.282368</td>\n",
       "      <td>0.898909</td>\n",
       "    </tr>\n",
       "  </tbody>\n",
       "</table>\n",
       "</div>"
      ],
      "text/plain": [
       "                  model       MAE       MSE        R2\n",
       "Train  Lasso(alpha=0.1)  0.345743  0.197466  0.933334\n",
       "Test   Lasso(alpha=0.1)  0.434010  0.282368  0.898909"
      ]
     },
     "execution_count": 31,
     "metadata": {},
     "output_type": "execute_result"
    },
    {
     "data": {
      "image/png": "[encoded data removed]",
      "text/plain": [
       "<Figure size 432x288 with 1 Axes>"
      ]
     },
     "metadata": {
      "needs_background": "light"
     },
     "output_type": "display_data"
    }
   ],
   "source": [
    "best_model_report = common_report(best_model, dum_Xtrain, dum_Xtest, dum_Ytrain, dum_Ytest, get_info=True)\n",
    "best_model_report"
   ]
  },
  {
   "cell_type": "markdown",
   "metadata": {},
   "source": [
    "Вычитаем у модели **без dummy признаков** значения MAE, MSE, R2 модели **с dummy признаками** "
   ]
  },
  {
   "cell_type": "code",
   "execution_count": 32,
   "metadata": {},
   "outputs": [
    {
     "data": {
      "text/plain": [
       "MAE   -0.0\n",
       "MSE   -0.0\n",
       "R2     0.0\n",
       "Name: Test, dtype: object"
      ]
     },
     "execution_count": 32,
     "metadata": {},
     "output_type": "execute_result"
    }
   ],
   "source": [
    "best_model_report.loc['Test', 'MAE':] - lasso_report.loc['Test', 'MAE':]"
   ]
  },
  {
   "cell_type": "markdown",
   "metadata": {},
   "source": [
    "**Для моего датасета использование бинарных признаков не дало никаких результатов**"
   ]
  },
  {
   "cell_type": "markdown",
   "metadata": {},
   "source": [
    "## 12 Прогоняем датасет, который уже обогащён бинарными признаками, через StandardScaler, \n",
    "обучаем найденную на предыдущих шагах лучшую модель. Как изменились MAE, MSE и R2 на тестовом наборе, вывести метрики и сделать выводы. "
   ]
  },
  {
   "cell_type": "code",
   "execution_count": 33,
   "metadata": {},
   "outputs": [],
   "source": [
    "from sklearn.preprocessing import StandardScaler"
   ]
  },
  {
   "cell_type": "code",
   "execution_count": 34,
   "metadata": {},
   "outputs": [],
   "source": [
    "scaled_dataset = StandardScaler().fit_transform(dummy_dataset)\n",
    "scaled_dataset = DataFrame(data=scaled_dataset, columns=dummy_dataset.columns, index=dummy_dataset.index)"
   ]
  },
  {
   "cell_type": "code",
   "execution_count": 35,
   "metadata": {},
   "outputs": [],
   "source": [
    "sc_Xtrain, sc_Xtest, sc_Ytrain, sc_Ytest = train_test_split(scaled_dataset, labels, test_size=0.3, random_state=123)"
   ]
  },
  {
   "cell_type": "code",
   "execution_count": 36,
   "metadata": {},
   "outputs": [
    {
     "data": {
      "text/plain": [
       "Lasso(alpha=0.1)"
      ]
     },
     "execution_count": 36,
     "metadata": {},
     "output_type": "execute_result"
    }
   ],
   "source": [
    "best_scaled_model = Lasso().set_params(**lasso_report.at['Test', 'model'].get_params())\n",
    "best_scaled_model.fit(sc_Xtrain, sc_Ytrain)"
   ]
  },
  {
   "cell_type": "markdown",
   "metadata": {},
   "source": [
    "## 13 Построить график (barh) с важностью коэфициентов при соответствующих признаках для задания 12"
   ]
  },
  {
   "cell_type": "code",
   "execution_count": 37,
   "metadata": {},
   "outputs": [
    {
     "name": "stdout",
     "output_type": "stream",
     "text": [
      "Отчёт по классификации моделью Lasso(alpha=0.1):\n",
      "------------- Метрики -------------\n",
      "train MAE: 0.31970280750284\n",
      " test MAE: 0.40087698375009295\n",
      "train MSE: 0.14874280849221264\n",
      " test MSE: 0.20997077464545144\n",
      "train R2: 0.9497832891521027\n",
      " test R2: 0.9248281425578715\n",
      "------------- Атрибуты -------------\n",
      "model.coef_:\n",
      "                               Features\n",
      "Radius(R/Ro)                   0.196401\n",
      "Spectral Class_F               0.032020\n",
      "Temperature (K)               -0.000000\n",
      "Star color_whitish             0.000000\n",
      "Spectral Class_K               0.000000\n",
      "Spectral Class_G               0.000000\n",
      "Spectral Class_B               0.000000\n",
      "Star color_yellowish-white     0.000000\n",
      "Star color_yellowish           0.000000\n",
      "Star color_yellow-white        0.000000\n",
      "Star color_white-yellow       -0.000000\n",
      "Luminosity(L/Lo)               0.000000\n",
      "Star color_white               0.000000\n",
      "Star color_pale-yellow-orange  0.000000\n",
      "Star color_orange-red          0.000000\n",
      "Star color_orange              0.000000\n",
      "Star color_blue-white         -0.000000\n",
      "Spectral Class_O              -0.000000\n",
      "Star color_red                -0.038750\n",
      "Spectral Class_M              -0.139925\n",
      "Absolute magnitude(Mv)        -1.360927\n",
      "\n",
      "model.intercept_: 2.4800975934213216\n"
     ]
    },
    {
     "data": {
      "text/html": [
       "<div>\n",
       "<style scoped>\n",
       "    .dataframe tbody tr th:only-of-type {\n",
       "        vertical-align: middle;\n",
       "    }\n",
       "\n",
       "    .dataframe tbody tr th {\n",
       "        vertical-align: top;\n",
       "    }\n",
       "\n",
       "    .dataframe thead th {\n",
       "        text-align: right;\n",
       "    }\n",
       "</style>\n",
       "<table border=\"1\" class=\"dataframe\">\n",
       "  <thead>\n",
       "    <tr style=\"text-align: right;\">\n",
       "      <th></th>\n",
       "      <th>model</th>\n",
       "      <th>MAE</th>\n",
       "      <th>MSE</th>\n",
       "      <th>R2</th>\n",
       "    </tr>\n",
       "  </thead>\n",
       "  <tbody>\n",
       "    <tr>\n",
       "      <th>Train</th>\n",
       "      <td>Lasso(alpha=0.1)</td>\n",
       "      <td>0.319703</td>\n",
       "      <td>0.148743</td>\n",
       "      <td>0.949783</td>\n",
       "    </tr>\n",
       "    <tr>\n",
       "      <th>Test</th>\n",
       "      <td>Lasso(alpha=0.1)</td>\n",
       "      <td>0.400877</td>\n",
       "      <td>0.209971</td>\n",
       "      <td>0.924828</td>\n",
       "    </tr>\n",
       "  </tbody>\n",
       "</table>\n",
       "</div>"
      ],
      "text/plain": [
       "                  model       MAE       MSE        R2\n",
       "Train  Lasso(alpha=0.1)  0.319703  0.148743  0.949783\n",
       "Test   Lasso(alpha=0.1)  0.400877  0.209971  0.924828"
      ]
     },
     "execution_count": 37,
     "metadata": {},
     "output_type": "execute_result"
    },
    {
     "data": {
      "image/png": "[encoded data removed]",
      "text/plain": [
       "<Figure size 432x288 with 1 Axes>"
      ]
     },
     "metadata": {
      "needs_background": "light"
     },
     "output_type": "display_data"
    }
   ],
   "source": [
    "best_scaled_model_report = common_report(best_scaled_model, sc_Xtrain, sc_Xtest, sc_Ytrain, sc_Ytest, get_info=True)\n",
    "best_scaled_model_report"
   ]
  },
  {
   "cell_type": "code",
   "execution_count": 38,
   "metadata": {},
   "outputs": [
    {
     "data": {
      "text/plain": [
       "MAE    0.033133\n",
       "MSE    0.072397\n",
       "R2    -0.025919\n",
       "Name: Test, dtype: object"
      ]
     },
     "execution_count": 38,
     "metadata": {},
     "output_type": "execute_result"
    }
   ],
   "source": [
    "best_model_report.loc['Test', 'MAE':] - best_scaled_model_report.loc['Test', 'MAE':]"
   ]
  },
  {
   "cell_type": "markdown",
   "metadata": {},
   "source": [
    "**Использование `StandartScaler` дало положительный результат**"
   ]
  },
  {
   "cell_type": "markdown",
   "metadata": {},
   "source": [
    "**Замечания:** При использовании GridSearchCV для извлечения параметров лучшей модели используем атрибут с объектом лучшей модели: gs.best_estimator_, например извлекаем вектор коэффициентов: gs.best_estimator_.coef_\n",
    "\n",
    "Логика всего задания проста:\n",
    "\n",
    "- Ищем лучший регрессор на вещественных признаках\n",
    "\n",
    "- Пробуем добавить категориальные (преобразованные в бинарные), смотрим как изменилось качество, стала ли модель лучше работать\n",
    "\n",
    "- Нормализуем признаки через StandardScaler, смотрим, повлияло ли это на качество модели."
   ]
  },
  {
   "cell_type": "markdown",
   "metadata": {},
   "source": [
    "## Заключение"
   ]
  },
  {
   "cell_type": "markdown",
   "metadata": {},
   "source": [
    "* Для моего датасета наилучшим регрессором оказался `Lasso` с гиперпараметров alpha=0.1\n",
    "* Использование бинарных признаков не дало никаких результатов\n",
    "* Нормализация `StandartScaler` улучшила показатели модели"
   ]
  }
 ],
 "metadata": {
  "kernelspec": {
   "display_name": "Python 3.9.5 ('base')",
   "language": "python",
   "name": "python3"
  },
  "language_info": {
   "codemirror_mode": {
    "name": "ipython",
    "version": 3
   },
   "file_extension": ".py",
   "mimetype": "text/x-python",
   "name": "python",
   "nbconvert_exporter": "python",
   "pygments_lexer": "ipython3",
   "version": "3.9.5"
  },
  "vscode": {
   "interpreter": {
    "hash": "57f5a46b5271c0742e27730fc25d2dbf2dabb26c7dee9c461e990edc64c0c8e3"
   }
  }
 },
 "nbformat": 4,
 "nbformat_minor": 1
}
