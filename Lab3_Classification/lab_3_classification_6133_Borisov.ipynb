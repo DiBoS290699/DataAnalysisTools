{
 "cells": [
  {
   "cell_type": "markdown",
   "metadata": {
    "collapsed": true,
    "pycharm": {
     "name": "#%% md\n"
    }
   },
   "source": [
    "# Лабораторная работа 3\n",
    "Классификация в sklearn. Метрики классификации\n",
    "\n",
    "Выполнил: 6133, Борисов"
   ]
  },
  {
   "cell_type": "markdown",
   "metadata": {
    "collapsed": false,
    "pycharm": {
     "name": "#%% md\n"
    }
   },
   "source": [
    "0.  Выберите наборы данных, подходящие для многоклассовой и бинарной классификации. Опишите данные, что обозначает каждый столбец, какого типа (категориальный, вещественный, целочисленный, бинарный) данный столбец, при необходимости для категориальных в том числе бинарных признаков привести расшифровку их значений. В общем, проведите \"визуальный\" анализ ваших данных."
   ]
  },
  {
   "cell_type": "code",
   "execution_count": 1,
   "metadata": {},
   "outputs": [],
   "source": [
    "import pandas as pd\n",
    "from numpy import argmax\n",
    "from sklearn.metrics import classification_report, confusion_matrix\n",
    "from sklearn.neighbors import KNeighborsClassifier\n",
    "from sklearn.model_selection import train_test_split, cross_validate \n",
    "from sklearn.preprocessing import StandardScaler\n",
    "import matplotlib.pyplot as plt\n",
    "import seaborn as sn"
   ]
  },
  {
   "cell_type": "markdown",
   "metadata": {},
   "source": [
    "## Star dataset to predict star types\n",
    "\n",
    "A 6 class star dataset for star classification with Deep Learned approaches.\n",
    "\n",
    "**Dataset Info:**\n",
    "\n",
    "This is a dataset consisting of several features of stars.\n",
    "\n",
    "Some of them are:\n",
    "\n",
    "* __Integer__: Absolute Temperature **(in K)** - This column consists of the Surface temperatures of several stars\n",
    "* __Real__: Relative Luminosity **(L/Lo)** - This column consists of the Luminosity of several stars calculated with respect to sun(L/Lo)\n",
    "* __Real__: Relative Radius **(R/Ro)** - This column consists of the Radius of several stars calculated with respect to sun(R/Ro)\n",
    "* __Real__: Absolute Magnitude **(Mv)** - This column consists of the Absolute Visual magnitude(Mv) of several stars\n",
    "* __Categorical__: Star Color **(white,Red,Blue,Yellow,yellow-orange etc)** - This column contains the info about the colors of each star after Spectral Analysis\n",
    "* __Categorical__: Spectral Class **(O,B,A,F,G,K,M)** - This column contains info about the spectral classes of each star(O,B,A,F,G,K,M) \n",
    "* __Categorical__: Star Type **(Red Dwarf, Brown Dwarf, White Dwarf, Main Sequence , SuperGiants, HyperGiants)** - This column is the output class (6 classes ranging from 0-5) 0 -> Brown Dwarf 1-> Red Dwarf 2 -> White Dwarf 3-> Main Sequence 4 -> Supergiant 5 -> Hypergiant\n",
    "\n",
    "Lo = 3.828 x 10^26 Watts (Avg Luminosity of Sun)\n",
    "\n",
    "Ro = 6.9551 x 10^8 m (Avg Radius of Sun)"
   ]
  },
  {
   "cell_type": "code",
   "execution_count": 2,
   "metadata": {},
   "outputs": [
    {
     "data": {
      "text/html": [
       "<div>\n",
       "<style scoped>\n",
       "    .dataframe tbody tr th:only-of-type {\n",
       "        vertical-align: middle;\n",
       "    }\n",
       "\n",
       "    .dataframe tbody tr th {\n",
       "        vertical-align: top;\n",
       "    }\n",
       "\n",
       "    .dataframe thead th {\n",
       "        text-align: right;\n",
       "    }\n",
       "</style>\n",
       "<table border=\"1\" class=\"dataframe\">\n",
       "  <thead>\n",
       "    <tr style=\"text-align: right;\">\n",
       "      <th></th>\n",
       "      <th>Temperature (K)</th>\n",
       "      <th>Luminosity(L/Lo)</th>\n",
       "      <th>Radius(R/Ro)</th>\n",
       "      <th>Absolute magnitude(Mv)</th>\n",
       "      <th>Star type</th>\n",
       "      <th>Star color</th>\n",
       "      <th>Spectral Class</th>\n",
       "    </tr>\n",
       "  </thead>\n",
       "  <tbody>\n",
       "    <tr>\n",
       "      <th>0</th>\n",
       "      <td>3068</td>\n",
       "      <td>0.002400</td>\n",
       "      <td>0.1700</td>\n",
       "      <td>16.12</td>\n",
       "      <td>0</td>\n",
       "      <td>Red</td>\n",
       "      <td>M</td>\n",
       "    </tr>\n",
       "    <tr>\n",
       "      <th>1</th>\n",
       "      <td>3042</td>\n",
       "      <td>0.000500</td>\n",
       "      <td>0.1542</td>\n",
       "      <td>16.60</td>\n",
       "      <td>0</td>\n",
       "      <td>Red</td>\n",
       "      <td>M</td>\n",
       "    </tr>\n",
       "    <tr>\n",
       "      <th>2</th>\n",
       "      <td>2600</td>\n",
       "      <td>0.000300</td>\n",
       "      <td>0.1020</td>\n",
       "      <td>18.70</td>\n",
       "      <td>0</td>\n",
       "      <td>Red</td>\n",
       "      <td>M</td>\n",
       "    </tr>\n",
       "    <tr>\n",
       "      <th>3</th>\n",
       "      <td>2800</td>\n",
       "      <td>0.000200</td>\n",
       "      <td>0.1600</td>\n",
       "      <td>16.65</td>\n",
       "      <td>0</td>\n",
       "      <td>Red</td>\n",
       "      <td>M</td>\n",
       "    </tr>\n",
       "    <tr>\n",
       "      <th>4</th>\n",
       "      <td>1939</td>\n",
       "      <td>0.000138</td>\n",
       "      <td>0.1030</td>\n",
       "      <td>20.06</td>\n",
       "      <td>0</td>\n",
       "      <td>Red</td>\n",
       "      <td>M</td>\n",
       "    </tr>\n",
       "    <tr>\n",
       "      <th>...</th>\n",
       "      <td>...</td>\n",
       "      <td>...</td>\n",
       "      <td>...</td>\n",
       "      <td>...</td>\n",
       "      <td>...</td>\n",
       "      <td>...</td>\n",
       "      <td>...</td>\n",
       "    </tr>\n",
       "    <tr>\n",
       "      <th>235</th>\n",
       "      <td>38940</td>\n",
       "      <td>374830.000000</td>\n",
       "      <td>1356.0000</td>\n",
       "      <td>-9.93</td>\n",
       "      <td>5</td>\n",
       "      <td>Blue</td>\n",
       "      <td>O</td>\n",
       "    </tr>\n",
       "    <tr>\n",
       "      <th>236</th>\n",
       "      <td>30839</td>\n",
       "      <td>834042.000000</td>\n",
       "      <td>1194.0000</td>\n",
       "      <td>-10.63</td>\n",
       "      <td>5</td>\n",
       "      <td>Blue</td>\n",
       "      <td>O</td>\n",
       "    </tr>\n",
       "    <tr>\n",
       "      <th>237</th>\n",
       "      <td>8829</td>\n",
       "      <td>537493.000000</td>\n",
       "      <td>1423.0000</td>\n",
       "      <td>-10.73</td>\n",
       "      <td>5</td>\n",
       "      <td>White</td>\n",
       "      <td>A</td>\n",
       "    </tr>\n",
       "    <tr>\n",
       "      <th>238</th>\n",
       "      <td>9235</td>\n",
       "      <td>404940.000000</td>\n",
       "      <td>1112.0000</td>\n",
       "      <td>-11.23</td>\n",
       "      <td>5</td>\n",
       "      <td>White</td>\n",
       "      <td>A</td>\n",
       "    </tr>\n",
       "    <tr>\n",
       "      <th>239</th>\n",
       "      <td>37882</td>\n",
       "      <td>294903.000000</td>\n",
       "      <td>1783.0000</td>\n",
       "      <td>-7.80</td>\n",
       "      <td>5</td>\n",
       "      <td>Blue</td>\n",
       "      <td>O</td>\n",
       "    </tr>\n",
       "  </tbody>\n",
       "</table>\n",
       "<p>240 rows × 7 columns</p>\n",
       "</div>"
      ],
      "text/plain": [
       "     Temperature (K)  Luminosity(L/Lo)  Radius(R/Ro)  Absolute magnitude(Mv)  \\\n",
       "0               3068          0.002400        0.1700                   16.12   \n",
       "1               3042          0.000500        0.1542                   16.60   \n",
       "2               2600          0.000300        0.1020                   18.70   \n",
       "3               2800          0.000200        0.1600                   16.65   \n",
       "4               1939          0.000138        0.1030                   20.06   \n",
       "..               ...               ...           ...                     ...   \n",
       "235            38940     374830.000000     1356.0000                   -9.93   \n",
       "236            30839     834042.000000     1194.0000                  -10.63   \n",
       "237             8829     537493.000000     1423.0000                  -10.73   \n",
       "238             9235     404940.000000     1112.0000                  -11.23   \n",
       "239            37882     294903.000000     1783.0000                   -7.80   \n",
       "\n",
       "     Star type Star color Spectral Class  \n",
       "0            0        Red              M  \n",
       "1            0        Red              M  \n",
       "2            0        Red              M  \n",
       "3            0        Red              M  \n",
       "4            0        Red              M  \n",
       "..         ...        ...            ...  \n",
       "235          5       Blue              O  \n",
       "236          5       Blue              O  \n",
       "237          5      White              A  \n",
       "238          5      White              A  \n",
       "239          5       Blue              O  \n",
       "\n",
       "[240 rows x 7 columns]"
      ]
     },
     "execution_count": 2,
     "metadata": {},
     "output_type": "execute_result"
    }
   ],
   "source": [
    "dataset = pd.read_csv('../data/Star_dataset.csv')\n",
    "dataset"
   ]
  },
  {
   "cell_type": "code",
   "execution_count": 3,
   "metadata": {},
   "outputs": [
    {
     "data": {
      "text/plain": [
       "0    40\n",
       "1    40\n",
       "2    40\n",
       "3    40\n",
       "4    40\n",
       "5    40\n",
       "Name: Star type, dtype: int64"
      ]
     },
     "execution_count": 3,
     "metadata": {},
     "output_type": "execute_result"
    }
   ],
   "source": [
    "dataset['Star type'].value_counts()"
   ]
  },
  {
   "cell_type": "code",
   "execution_count": 4,
   "metadata": {},
   "outputs": [
    {
     "name": "stdout",
     "output_type": "stream",
     "text": [
      "{'Red': 0, 'Blue White': 1, 'White': 2, 'Yellowish White': 3, 'Blue white': 4, 'Pale yellow orange': 5, 'Blue': 6, 'Blue-white': 7, 'Whitish': 8, 'yellow-white': 9, 'Orange': 10, 'White-Yellow': 11, 'white': 12, 'Blue ': 13, 'yellowish': 14, 'Yellowish': 15, 'Orange-Red': 16, 'Blue white ': 17, 'Blue-White': 18}\n",
      "{'O': 0, 'B': 1, 'A': 2, 'F': 3, 'G': 4, 'K': 5, 'M': 6}\n"
     ]
    }
   ],
   "source": [
    "# Изменение строковых параметров в числовые\n",
    "\n",
    "unique_colors = dataset['Star color'].unique()\n",
    "colors_dict = dict(zip(unique_colors, range(0, len(unique_colors))))\n",
    "print(colors_dict)\n",
    "\n",
    "sp_class_dict = {'O': 0, 'B': 1,'A': 2, 'F': 3, 'G': 4, 'K': 5, 'M': 6}\n",
    "print(sp_class_dict)\n",
    "\n",
    "dataset['Star color'] = dataset['Star color'].apply(lambda color: colors_dict[color])\n",
    "dataset['Spectral Class'] = dataset['Spectral Class'].apply(lambda cls: sp_class_dict[cls])"
   ]
  },
  {
   "cell_type": "code",
   "execution_count": 5,
   "metadata": {},
   "outputs": [
    {
     "name": "stdout",
     "output_type": "stream",
     "text": [
      "<class 'pandas.core.frame.DataFrame'>\n",
      "RangeIndex: 240 entries, 0 to 239\n",
      "Data columns (total 7 columns):\n",
      " #   Column                  Non-Null Count  Dtype  \n",
      "---  ------                  --------------  -----  \n",
      " 0   Temperature (K)         240 non-null    int64  \n",
      " 1   Luminosity(L/Lo)        240 non-null    float64\n",
      " 2   Radius(R/Ro)            240 non-null    float64\n",
      " 3   Absolute magnitude(Mv)  240 non-null    float64\n",
      " 4   Star type               240 non-null    int64  \n",
      " 5   Star color              240 non-null    int64  \n",
      " 6   Spectral Class          240 non-null    int64  \n",
      "dtypes: float64(3), int64(4)\n",
      "memory usage: 13.2 KB\n"
     ]
    }
   ],
   "source": [
    "dataset.info()"
   ]
  },
  {
   "cell_type": "code",
   "execution_count": 6,
   "metadata": {},
   "outputs": [
    {
     "data": {
      "text/html": [
       "<div>\n",
       "<style scoped>\n",
       "    .dataframe tbody tr th:only-of-type {\n",
       "        vertical-align: middle;\n",
       "    }\n",
       "\n",
       "    .dataframe tbody tr th {\n",
       "        vertical-align: top;\n",
       "    }\n",
       "\n",
       "    .dataframe thead th {\n",
       "        text-align: right;\n",
       "    }\n",
       "</style>\n",
       "<table border=\"1\" class=\"dataframe\">\n",
       "  <thead>\n",
       "    <tr style=\"text-align: right;\">\n",
       "      <th></th>\n",
       "      <th>Temperature (K)</th>\n",
       "      <th>Luminosity(L/Lo)</th>\n",
       "      <th>Radius(R/Ro)</th>\n",
       "      <th>Absolute magnitude(Mv)</th>\n",
       "      <th>Star type</th>\n",
       "      <th>Star color</th>\n",
       "      <th>Spectral Class</th>\n",
       "    </tr>\n",
       "  </thead>\n",
       "  <tbody>\n",
       "    <tr>\n",
       "      <th>count</th>\n",
       "      <td>240.000000</td>\n",
       "      <td>240.000000</td>\n",
       "      <td>240.000000</td>\n",
       "      <td>240.000000</td>\n",
       "      <td>240.000000</td>\n",
       "      <td>240.000000</td>\n",
       "      <td>240.000000</td>\n",
       "    </tr>\n",
       "    <tr>\n",
       "      <th>mean</th>\n",
       "      <td>10497.462500</td>\n",
       "      <td>107188.361635</td>\n",
       "      <td>237.157781</td>\n",
       "      <td>4.382396</td>\n",
       "      <td>2.500000</td>\n",
       "      <td>3.433333</td>\n",
       "      <td>3.479167</td>\n",
       "    </tr>\n",
       "    <tr>\n",
       "      <th>std</th>\n",
       "      <td>9552.425037</td>\n",
       "      <td>179432.244940</td>\n",
       "      <td>517.155763</td>\n",
       "      <td>10.532512</td>\n",
       "      <td>1.711394</td>\n",
       "      <td>3.959488</td>\n",
       "      <td>2.531720</td>\n",
       "    </tr>\n",
       "    <tr>\n",
       "      <th>min</th>\n",
       "      <td>1939.000000</td>\n",
       "      <td>0.000080</td>\n",
       "      <td>0.008400</td>\n",
       "      <td>-11.920000</td>\n",
       "      <td>0.000000</td>\n",
       "      <td>0.000000</td>\n",
       "      <td>0.000000</td>\n",
       "    </tr>\n",
       "    <tr>\n",
       "      <th>25%</th>\n",
       "      <td>3344.250000</td>\n",
       "      <td>0.000865</td>\n",
       "      <td>0.102750</td>\n",
       "      <td>-6.232500</td>\n",
       "      <td>1.000000</td>\n",
       "      <td>0.000000</td>\n",
       "      <td>1.000000</td>\n",
       "    </tr>\n",
       "    <tr>\n",
       "      <th>50%</th>\n",
       "      <td>5776.000000</td>\n",
       "      <td>0.070500</td>\n",
       "      <td>0.762500</td>\n",
       "      <td>8.313000</td>\n",
       "      <td>2.500000</td>\n",
       "      <td>1.000000</td>\n",
       "      <td>3.000000</td>\n",
       "    </tr>\n",
       "    <tr>\n",
       "      <th>75%</th>\n",
       "      <td>15055.500000</td>\n",
       "      <td>198050.000000</td>\n",
       "      <td>42.750000</td>\n",
       "      <td>13.697500</td>\n",
       "      <td>4.000000</td>\n",
       "      <td>6.000000</td>\n",
       "      <td>6.000000</td>\n",
       "    </tr>\n",
       "    <tr>\n",
       "      <th>max</th>\n",
       "      <td>40000.000000</td>\n",
       "      <td>849420.000000</td>\n",
       "      <td>1948.500000</td>\n",
       "      <td>20.060000</td>\n",
       "      <td>5.000000</td>\n",
       "      <td>18.000000</td>\n",
       "      <td>6.000000</td>\n",
       "    </tr>\n",
       "  </tbody>\n",
       "</table>\n",
       "</div>"
      ],
      "text/plain": [
       "       Temperature (K)  Luminosity(L/Lo)  Radius(R/Ro)  \\\n",
       "count       240.000000        240.000000    240.000000   \n",
       "mean      10497.462500     107188.361635    237.157781   \n",
       "std        9552.425037     179432.244940    517.155763   \n",
       "min        1939.000000          0.000080      0.008400   \n",
       "25%        3344.250000          0.000865      0.102750   \n",
       "50%        5776.000000          0.070500      0.762500   \n",
       "75%       15055.500000     198050.000000     42.750000   \n",
       "max       40000.000000     849420.000000   1948.500000   \n",
       "\n",
       "       Absolute magnitude(Mv)   Star type  Star color  Spectral Class  \n",
       "count              240.000000  240.000000  240.000000      240.000000  \n",
       "mean                 4.382396    2.500000    3.433333        3.479167  \n",
       "std                 10.532512    1.711394    3.959488        2.531720  \n",
       "min                -11.920000    0.000000    0.000000        0.000000  \n",
       "25%                 -6.232500    1.000000    0.000000        1.000000  \n",
       "50%                  8.313000    2.500000    1.000000        3.000000  \n",
       "75%                 13.697500    4.000000    6.000000        6.000000  \n",
       "max                 20.060000    5.000000   18.000000        6.000000  "
      ]
     },
     "execution_count": 6,
     "metadata": {},
     "output_type": "execute_result"
    }
   ],
   "source": [
    "dataset.describe()"
   ]
  },
  {
   "cell_type": "code",
   "execution_count": 7,
   "metadata": {},
   "outputs": [
    {
     "data": {
      "text/plain": [
       "((240, 6), (240,))"
      ]
     },
     "execution_count": 7,
     "metadata": {},
     "output_type": "execute_result"
    }
   ],
   "source": [
    "labels = dataset['Star type']\n",
    "data = dataset.drop(columns='Star type')\n",
    "data.shape, labels.shape"
   ]
  },
  {
   "cell_type": "markdown",
   "metadata": {
    "collapsed": false
   },
   "source": [
    "## **1. Многоклассовая классификация:**"
   ]
  },
  {
   "cell_type": "markdown",
   "metadata": {
    "collapsed": false,
    "pycharm": {
     "name": "#%% md\n"
    }
   },
   "source": [
    "1.1 На любом датасете продемонстрировать многоклассовую классификацию с помощью ЛЮБОГО алгоритма. Оценить accuracy.\n",
    "\n",
    "1.2. То же самое с использованием кросс-валидации\n",
    "\n",
    "1.3. Поиграться с гиперпараметром, связанным со сложностью модели (в случае kNN — k_neighbours) и построить график accuracy для train set и test_set для разных значений гиперпараметра (в лекции есть пример построения подобного графика для kNN и датасета cancer, но можно строить как угодно такой график)"
   ]
  },
  {
   "cell_type": "code",
   "execution_count": 8,
   "metadata": {},
   "outputs": [],
   "source": [
    "# 1.1 и 1.3 - Объединил два пункта\n",
    "def check_knn_accuracy(data, labels, test_size=0.3, return_split=False, state=None):\n",
    "\n",
    "  Xtrain, Xtest, Ytrain, Ytest = train_test_split(data, labels, test_size=test_size, random_state=state)\n",
    "  \n",
    "  training_accuracy = []\n",
    "  test_accuracy = []\n",
    "  estimator = []\n",
    "  # пробуем n_neighbors от 1 до 10\n",
    "  neighbors_settings = range(1, 10)\n",
    "  for n_neighbors in neighbors_settings:\n",
    "    # строим модель\n",
    "    clf = KNeighborsClassifier( n_neighbors = n_neighbors )\n",
    "    clf.fit(Xtrain, Ytrain)\n",
    "    estimator.append(clf)\n",
    "    # записываем правильность на обучающем наборе\n",
    "    training_accuracy.append( clf.score(Xtrain, Ytrain) )\n",
    "    # записываем правильность на тестовом наборе\n",
    "    test_accuracy.append( clf.score(Xtest, Ytest) )\n",
    "\n",
    "  plt.plot( neighbors_settings, training_accuracy, label=\"правильность на обучающем наборе\" )\n",
    "  plt.plot( neighbors_settings, test_accuracy, label=\"правильность на тестовом наборе\" )\n",
    "  plt.ylabel(\"Правильность\")\n",
    "  plt.xlabel(\"количество соседей\")\n",
    "  plt.legend()\n",
    "\n",
    "  results = pd.DataFrame(dict(training_accuracy=training_accuracy, test_accuracy=test_accuracy, estimator=estimator))\n",
    "\n",
    "  return results, (Xtrain, Xtest, Ytrain, Ytest) if return_split else None"
   ]
  },
  {
   "cell_type": "code",
   "execution_count": 9,
   "metadata": {},
   "outputs": [
    {
     "data": {
      "text/html": [
       "<div>\n",
       "<style scoped>\n",
       "    .dataframe tbody tr th:only-of-type {\n",
       "        vertical-align: middle;\n",
       "    }\n",
       "\n",
       "    .dataframe tbody tr th {\n",
       "        vertical-align: top;\n",
       "    }\n",
       "\n",
       "    .dataframe thead th {\n",
       "        text-align: right;\n",
       "    }\n",
       "</style>\n",
       "<table border=\"1\" class=\"dataframe\">\n",
       "  <thead>\n",
       "    <tr style=\"text-align: right;\">\n",
       "      <th></th>\n",
       "      <th>training_accuracy</th>\n",
       "      <th>test_accuracy</th>\n",
       "      <th>estimator</th>\n",
       "    </tr>\n",
       "  </thead>\n",
       "  <tbody>\n",
       "    <tr>\n",
       "      <th>0</th>\n",
       "      <td>1.000000</td>\n",
       "      <td>0.694444</td>\n",
       "      <td>KNeighborsClassifier(n_neighbors=1)</td>\n",
       "    </tr>\n",
       "    <tr>\n",
       "      <th>1</th>\n",
       "      <td>0.839286</td>\n",
       "      <td>0.611111</td>\n",
       "      <td>KNeighborsClassifier(n_neighbors=2)</td>\n",
       "    </tr>\n",
       "    <tr>\n",
       "      <th>2</th>\n",
       "      <td>0.839286</td>\n",
       "      <td>0.583333</td>\n",
       "      <td>KNeighborsClassifier(n_neighbors=3)</td>\n",
       "    </tr>\n",
       "    <tr>\n",
       "      <th>3</th>\n",
       "      <td>0.761905</td>\n",
       "      <td>0.597222</td>\n",
       "      <td>KNeighborsClassifier(n_neighbors=4)</td>\n",
       "    </tr>\n",
       "    <tr>\n",
       "      <th>4</th>\n",
       "      <td>0.785714</td>\n",
       "      <td>0.625000</td>\n",
       "      <td>KNeighborsClassifier()</td>\n",
       "    </tr>\n",
       "    <tr>\n",
       "      <th>5</th>\n",
       "      <td>0.696429</td>\n",
       "      <td>0.597222</td>\n",
       "      <td>KNeighborsClassifier(n_neighbors=6)</td>\n",
       "    </tr>\n",
       "    <tr>\n",
       "      <th>6</th>\n",
       "      <td>0.708333</td>\n",
       "      <td>0.541667</td>\n",
       "      <td>KNeighborsClassifier(n_neighbors=7)</td>\n",
       "    </tr>\n",
       "    <tr>\n",
       "      <th>7</th>\n",
       "      <td>0.684524</td>\n",
       "      <td>0.472222</td>\n",
       "      <td>KNeighborsClassifier(n_neighbors=8)</td>\n",
       "    </tr>\n",
       "    <tr>\n",
       "      <th>8</th>\n",
       "      <td>0.702381</td>\n",
       "      <td>0.513889</td>\n",
       "      <td>KNeighborsClassifier(n_neighbors=9)</td>\n",
       "    </tr>\n",
       "  </tbody>\n",
       "</table>\n",
       "</div>"
      ],
      "text/plain": [
       "   training_accuracy  test_accuracy                            estimator\n",
       "0           1.000000       0.694444  KNeighborsClassifier(n_neighbors=1)\n",
       "1           0.839286       0.611111  KNeighborsClassifier(n_neighbors=2)\n",
       "2           0.839286       0.583333  KNeighborsClassifier(n_neighbors=3)\n",
       "3           0.761905       0.597222  KNeighborsClassifier(n_neighbors=4)\n",
       "4           0.785714       0.625000               KNeighborsClassifier()\n",
       "5           0.696429       0.597222  KNeighborsClassifier(n_neighbors=6)\n",
       "6           0.708333       0.541667  KNeighborsClassifier(n_neighbors=7)\n",
       "7           0.684524       0.472222  KNeighborsClassifier(n_neighbors=8)\n",
       "8           0.702381       0.513889  KNeighborsClassifier(n_neighbors=9)"
      ]
     },
     "execution_count": 9,
     "metadata": {},
     "output_type": "execute_result"
    },
    {
     "data": {
      "image/png": "[encoded data removed]",
      "text/plain": [
       "<Figure size 432x288 with 1 Axes>"
      ]
     },
     "metadata": {
      "needs_background": "light"
     },
     "output_type": "display_data"
    }
   ],
   "source": [
    "results1, (Xtrain, Xtest, Ytrain, Ytest) = check_knn_accuracy(data, labels, return_split=True, state=0)\n",
    "results1"
   ]
  },
  {
   "cell_type": "code",
   "execution_count": 10,
   "metadata": {},
   "outputs": [
    {
     "name": "stdout",
     "output_type": "stream",
     "text": [
      "Самое оптимальный параметр n_neighbors:  1\n",
      "Лучший показатель accuracy без кросс валидации:  0.6944444444444444\n"
     ]
    }
   ],
   "source": [
    "accuracy1 = results1['test_accuracy'].max()\n",
    "best_n_neighbors = results1['test_accuracy'].argmax() + 1\n",
    "print('Самое оптимальный параметр n_neighbors: ', best_n_neighbors)\n",
    "print(\"Лучший показатель accuracy без кросс валидации: \", accuracy1)"
   ]
  },
  {
   "cell_type": "code",
   "execution_count": 11,
   "metadata": {},
   "outputs": [
    {
     "data": {
      "text/html": [
       "<div>\n",
       "<style scoped>\n",
       "    .dataframe tbody tr th:only-of-type {\n",
       "        vertical-align: middle;\n",
       "    }\n",
       "\n",
       "    .dataframe tbody tr th {\n",
       "        vertical-align: top;\n",
       "    }\n",
       "\n",
       "    .dataframe thead th {\n",
       "        text-align: right;\n",
       "    }\n",
       "</style>\n",
       "<table border=\"1\" class=\"dataframe\">\n",
       "  <thead>\n",
       "    <tr style=\"text-align: right;\">\n",
       "      <th></th>\n",
       "      <th>fit_time</th>\n",
       "      <th>score_time</th>\n",
       "      <th>estimator</th>\n",
       "      <th>test_score</th>\n",
       "      <th>train_score</th>\n",
       "    </tr>\n",
       "  </thead>\n",
       "  <tbody>\n",
       "    <tr>\n",
       "      <th>0</th>\n",
       "      <td>0.004994</td>\n",
       "      <td>0.007715</td>\n",
       "      <td>KNeighborsClassifier(n_neighbors=1)</td>\n",
       "      <td>0.583333</td>\n",
       "      <td>1.0</td>\n",
       "    </tr>\n",
       "    <tr>\n",
       "      <th>1</th>\n",
       "      <td>0.004550</td>\n",
       "      <td>0.008183</td>\n",
       "      <td>KNeighborsClassifier(n_neighbors=1)</td>\n",
       "      <td>0.666667</td>\n",
       "      <td>1.0</td>\n",
       "    </tr>\n",
       "    <tr>\n",
       "      <th>2</th>\n",
       "      <td>0.003002</td>\n",
       "      <td>0.006004</td>\n",
       "      <td>KNeighborsClassifier(n_neighbors=1)</td>\n",
       "      <td>0.750000</td>\n",
       "      <td>1.0</td>\n",
       "    </tr>\n",
       "    <tr>\n",
       "      <th>3</th>\n",
       "      <td>0.003000</td>\n",
       "      <td>0.005030</td>\n",
       "      <td>KNeighborsClassifier(n_neighbors=1)</td>\n",
       "      <td>0.791667</td>\n",
       "      <td>1.0</td>\n",
       "    </tr>\n",
       "    <tr>\n",
       "      <th>4</th>\n",
       "      <td>0.003998</td>\n",
       "      <td>0.008006</td>\n",
       "      <td>KNeighborsClassifier(n_neighbors=1)</td>\n",
       "      <td>0.729167</td>\n",
       "      <td>1.0</td>\n",
       "    </tr>\n",
       "  </tbody>\n",
       "</table>\n",
       "</div>"
      ],
      "text/plain": [
       "   fit_time  score_time                            estimator  test_score  \\\n",
       "0  0.004994    0.007715  KNeighborsClassifier(n_neighbors=1)    0.583333   \n",
       "1  0.004550    0.008183  KNeighborsClassifier(n_neighbors=1)    0.666667   \n",
       "2  0.003002    0.006004  KNeighborsClassifier(n_neighbors=1)    0.750000   \n",
       "3  0.003000    0.005030  KNeighborsClassifier(n_neighbors=1)    0.791667   \n",
       "4  0.003998    0.008006  KNeighborsClassifier(n_neighbors=1)    0.729167   \n",
       "\n",
       "   train_score  \n",
       "0          1.0  \n",
       "1          1.0  \n",
       "2          1.0  \n",
       "3          1.0  \n",
       "4          1.0  "
      ]
     },
     "execution_count": 11,
     "metadata": {},
     "output_type": "execute_result"
    }
   ],
   "source": [
    "# 1.2 Кросс валидация\n",
    "results2 = cross_validate(KNeighborsClassifier(n_neighbors = best_n_neighbors), data, labels, cv=5, \n",
    "                                scoring='accuracy', return_estimator=True, \n",
    "                                return_train_score=True)\n",
    "results2 = pd.DataFrame(results2)\n",
    "results2"
   ]
  },
  {
   "cell_type": "code",
   "execution_count": 12,
   "metadata": {},
   "outputs": [
    {
     "name": "stdout",
     "output_type": "stream",
     "text": [
      "Лучший показатель accuracy с кросс валидацией:  0.7916666666666666\n"
     ]
    }
   ],
   "source": [
    "accuracy2 = results2['test_score'].max()\n",
    "print(\"Лучший показатель accuracy с кросс валидацией: \", accuracy2)"
   ]
  },
  {
   "cell_type": "markdown",
   "metadata": {},
   "source": [
    "1.4. Построить confusion matrix (это вроде матрицы TN / TP/ FN/ FP, только расширенной для многоклассовой классификации, чтобы понять в какие стороны чаще ошибается классификатор). ([пример](https://scikit-learn.org/stable/auto_examples/model_selection/plot_confusion_matrix.html)):"
   ]
  },
  {
   "cell_type": "code",
   "execution_count": 13,
   "metadata": {},
   "outputs": [],
   "source": [
    "# Построение confusion matrix для лучшей выборки гиперпараметров\n",
    "def report_classification(model, Xtest, Ytest, get_conf_matr=False):\n",
    "    pred = model.predict(Xtest)\n",
    "\n",
    "    print('Отчёт по метрикам оценки мультиклассового классификации:')\n",
    "    print(classification_report(Ytest, pred))\n",
    "    conf_mat = confusion_matrix(Ytest, pred)\n",
    "    sn.heatmap(conf_mat, annot=True, fmt=\"d\")\n",
    "    \n",
    "    return conf_mat if get_conf_matr else None"
   ]
  },
  {
   "cell_type": "markdown",
   "metadata": {},
   "source": [
    "### Получение отчёта по обученной модели **без кросс валидации** с наибольшим accuracy"
   ]
  },
  {
   "cell_type": "code",
   "execution_count": 14,
   "metadata": {},
   "outputs": [
    {
     "name": "stdout",
     "output_type": "stream",
     "text": [
      "Отчёт по метрикам оценки мультиклассового классификации:\n",
      "              precision    recall  f1-score   support\n",
      "\n",
      "           0       0.53      0.80      0.64        10\n",
      "           1       0.67      0.46      0.55        13\n",
      "           2       0.73      1.00      0.84         8\n",
      "           3       1.00      0.75      0.86        16\n",
      "           4       0.64      0.69      0.67        13\n",
      "           5       0.64      0.58      0.61        12\n",
      "\n",
      "    accuracy                           0.69        72\n",
      "   macro avg       0.70      0.71      0.69        72\n",
      "weighted avg       0.72      0.69      0.69        72\n",
      "\n"
     ]
    },
    {
     "data": {
      "image/png": "[encoded data removed]",
      "text/plain": [
       "<Figure size 432x288 with 2 Axes>"
      ]
     },
     "metadata": {
      "needs_background": "light"
     },
     "output_type": "display_data"
    }
   ],
   "source": [
    "neighbors_model = results1[results1['test_accuracy'] == accuracy1]['estimator'].head(1).item()\n",
    "report_classification(neighbors_model, Xtest, Ytest)"
   ]
  },
  {
   "cell_type": "markdown",
   "metadata": {},
   "source": [
    "### Получение отчёта по обученной модели **кросс валидацией** с наибольшим accuracy"
   ]
  },
  {
   "cell_type": "code",
   "execution_count": 15,
   "metadata": {},
   "outputs": [
    {
     "name": "stdout",
     "output_type": "stream",
     "text": [
      "Отчёт по метрикам оценки мультиклассового классификации:\n",
      "              precision    recall  f1-score   support\n",
      "\n",
      "           0       1.00      1.00      1.00        10\n",
      "           1       1.00      1.00      1.00        13\n",
      "           2       1.00      1.00      1.00         8\n",
      "           3       1.00      1.00      1.00        16\n",
      "           4       0.93      1.00      0.96        13\n",
      "           5       1.00      0.92      0.96        12\n",
      "\n",
      "    accuracy                           0.99        72\n",
      "   macro avg       0.99      0.99      0.99        72\n",
      "weighted avg       0.99      0.99      0.99        72\n",
      "\n"
     ]
    },
    {
     "data": {
      "image/png": "[encoded data removed]",
      "text/plain": [
       "<Figure size 432x288 with 2 Axes>"
      ]
     },
     "metadata": {
      "needs_background": "light"
     },
     "output_type": "display_data"
    }
   ],
   "source": [
    "neighbors_model = results2[results2['test_score'] == accuracy2]['estimator'].head(1).item()\n",
    "report_classification(neighbors_model, Xtest, Ytest)"
   ]
  },
  {
   "cell_type": "markdown",
   "metadata": {
    "collapsed": false,
    "pycharm": {
     "name": "#%% md\n"
    }
   },
   "source": [
    "## **2. Бинарная классификация.**"
   ]
  },
  {
   "cell_type": "markdown",
   "metadata": {
    "collapsed": false,
    "pycharm": {
     "name": "#%% md\n"
    }
   },
   "source": [
    "На любом (но уже другом, бинарном) датасете продемонстрировать бинарную классификацию (можно использовать любой алгоритм), посчитать метрики: accuracy, precision, recall, f-measure, а также составить `classification_report`\n"
   ]
  },
  {
   "cell_type": "markdown",
   "metadata": {},
   "source": [
    "Вместо другого датасета используется **тот же датасет со звёздами**, но только по двум типам звёзд"
   ]
  },
  {
   "cell_type": "code",
   "execution_count": 16,
   "metadata": {},
   "outputs": [
    {
     "data": {
      "text/html": [
       "<div>\n",
       "<style scoped>\n",
       "    .dataframe tbody tr th:only-of-type {\n",
       "        vertical-align: middle;\n",
       "    }\n",
       "\n",
       "    .dataframe tbody tr th {\n",
       "        vertical-align: top;\n",
       "    }\n",
       "\n",
       "    .dataframe thead th {\n",
       "        text-align: right;\n",
       "    }\n",
       "</style>\n",
       "<table border=\"1\" class=\"dataframe\">\n",
       "  <thead>\n",
       "    <tr style=\"text-align: right;\">\n",
       "      <th></th>\n",
       "      <th>Temperature (K)</th>\n",
       "      <th>Luminosity(L/Lo)</th>\n",
       "      <th>Radius(R/Ro)</th>\n",
       "      <th>Absolute magnitude(Mv)</th>\n",
       "      <th>Star type</th>\n",
       "      <th>Star color</th>\n",
       "      <th>Spectral Class</th>\n",
       "    </tr>\n",
       "  </thead>\n",
       "  <tbody>\n",
       "    <tr>\n",
       "      <th>0</th>\n",
       "      <td>3068</td>\n",
       "      <td>0.002400</td>\n",
       "      <td>0.1700</td>\n",
       "      <td>16.120</td>\n",
       "      <td>0</td>\n",
       "      <td>0</td>\n",
       "      <td>6</td>\n",
       "    </tr>\n",
       "    <tr>\n",
       "      <th>1</th>\n",
       "      <td>3042</td>\n",
       "      <td>0.000500</td>\n",
       "      <td>0.1542</td>\n",
       "      <td>16.600</td>\n",
       "      <td>0</td>\n",
       "      <td>0</td>\n",
       "      <td>6</td>\n",
       "    </tr>\n",
       "    <tr>\n",
       "      <th>2</th>\n",
       "      <td>2600</td>\n",
       "      <td>0.000300</td>\n",
       "      <td>0.1020</td>\n",
       "      <td>18.700</td>\n",
       "      <td>0</td>\n",
       "      <td>0</td>\n",
       "      <td>6</td>\n",
       "    </tr>\n",
       "    <tr>\n",
       "      <th>3</th>\n",
       "      <td>2800</td>\n",
       "      <td>0.000200</td>\n",
       "      <td>0.1600</td>\n",
       "      <td>16.650</td>\n",
       "      <td>0</td>\n",
       "      <td>0</td>\n",
       "      <td>6</td>\n",
       "    </tr>\n",
       "    <tr>\n",
       "      <th>4</th>\n",
       "      <td>1939</td>\n",
       "      <td>0.000138</td>\n",
       "      <td>0.1030</td>\n",
       "      <td>20.060</td>\n",
       "      <td>0</td>\n",
       "      <td>0</td>\n",
       "      <td>6</td>\n",
       "    </tr>\n",
       "    <tr>\n",
       "      <th>...</th>\n",
       "      <td>...</td>\n",
       "      <td>...</td>\n",
       "      <td>...</td>\n",
       "      <td>...</td>\n",
       "      <td>...</td>\n",
       "      <td>...</td>\n",
       "      <td>...</td>\n",
       "    </tr>\n",
       "    <tr>\n",
       "      <th>195</th>\n",
       "      <td>3598</td>\n",
       "      <td>0.002700</td>\n",
       "      <td>0.6700</td>\n",
       "      <td>13.667</td>\n",
       "      <td>1</td>\n",
       "      <td>0</td>\n",
       "      <td>6</td>\n",
       "    </tr>\n",
       "    <tr>\n",
       "      <th>196</th>\n",
       "      <td>3142</td>\n",
       "      <td>0.001320</td>\n",
       "      <td>0.2580</td>\n",
       "      <td>14.120</td>\n",
       "      <td>1</td>\n",
       "      <td>0</td>\n",
       "      <td>6</td>\n",
       "    </tr>\n",
       "    <tr>\n",
       "      <th>197</th>\n",
       "      <td>3496</td>\n",
       "      <td>0.001250</td>\n",
       "      <td>0.3360</td>\n",
       "      <td>14.940</td>\n",
       "      <td>1</td>\n",
       "      <td>0</td>\n",
       "      <td>6</td>\n",
       "    </tr>\n",
       "    <tr>\n",
       "      <th>198</th>\n",
       "      <td>3324</td>\n",
       "      <td>0.006500</td>\n",
       "      <td>0.4710</td>\n",
       "      <td>12.780</td>\n",
       "      <td>1</td>\n",
       "      <td>0</td>\n",
       "      <td>6</td>\n",
       "    </tr>\n",
       "    <tr>\n",
       "      <th>199</th>\n",
       "      <td>3463</td>\n",
       "      <td>0.002700</td>\n",
       "      <td>0.6750</td>\n",
       "      <td>14.776</td>\n",
       "      <td>1</td>\n",
       "      <td>0</td>\n",
       "      <td>6</td>\n",
       "    </tr>\n",
       "  </tbody>\n",
       "</table>\n",
       "<p>80 rows × 7 columns</p>\n",
       "</div>"
      ],
      "text/plain": [
       "     Temperature (K)  Luminosity(L/Lo)  Radius(R/Ro)  Absolute magnitude(Mv)  \\\n",
       "0               3068          0.002400        0.1700                  16.120   \n",
       "1               3042          0.000500        0.1542                  16.600   \n",
       "2               2600          0.000300        0.1020                  18.700   \n",
       "3               2800          0.000200        0.1600                  16.650   \n",
       "4               1939          0.000138        0.1030                  20.060   \n",
       "..               ...               ...           ...                     ...   \n",
       "195             3598          0.002700        0.6700                  13.667   \n",
       "196             3142          0.001320        0.2580                  14.120   \n",
       "197             3496          0.001250        0.3360                  14.940   \n",
       "198             3324          0.006500        0.4710                  12.780   \n",
       "199             3463          0.002700        0.6750                  14.776   \n",
       "\n",
       "     Star type  Star color  Spectral Class  \n",
       "0            0           0               6  \n",
       "1            0           0               6  \n",
       "2            0           0               6  \n",
       "3            0           0               6  \n",
       "4            0           0               6  \n",
       "..         ...         ...             ...  \n",
       "195          1           0               6  \n",
       "196          1           0               6  \n",
       "197          1           0               6  \n",
       "198          1           0               6  \n",
       "199          1           0               6  \n",
       "\n",
       "[80 rows x 7 columns]"
      ]
     },
     "execution_count": 16,
     "metadata": {},
     "output_type": "execute_result"
    }
   ],
   "source": [
    "two_classes = (0, 1)\n",
    "bin_dataset = dataset[dataset['Star type'].isin(two_classes)]\n",
    "bin_dataset"
   ]
  },
  {
   "cell_type": "code",
   "execution_count": 17,
   "metadata": {},
   "outputs": [
    {
     "data": {
      "text/plain": [
       "((80, 6), (80,))"
      ]
     },
     "execution_count": 17,
     "metadata": {},
     "output_type": "execute_result"
    }
   ],
   "source": [
    "bin_labels = bin_dataset['Star type']\n",
    "bin_data = bin_dataset.drop(columns='Star type')\n",
    "bin_data.shape, bin_labels.shape"
   ]
  },
  {
   "cell_type": "code",
   "execution_count": 18,
   "metadata": {},
   "outputs": [
    {
     "data": {
      "text/html": [
       "<div>\n",
       "<style scoped>\n",
       "    .dataframe tbody tr th:only-of-type {\n",
       "        vertical-align: middle;\n",
       "    }\n",
       "\n",
       "    .dataframe tbody tr th {\n",
       "        vertical-align: top;\n",
       "    }\n",
       "\n",
       "    .dataframe thead th {\n",
       "        text-align: right;\n",
       "    }\n",
       "</style>\n",
       "<table border=\"1\" class=\"dataframe\">\n",
       "  <thead>\n",
       "    <tr style=\"text-align: right;\">\n",
       "      <th></th>\n",
       "      <th>training_accuracy</th>\n",
       "      <th>test_accuracy</th>\n",
       "      <th>estimator</th>\n",
       "    </tr>\n",
       "  </thead>\n",
       "  <tbody>\n",
       "    <tr>\n",
       "      <th>0</th>\n",
       "      <td>1.000000</td>\n",
       "      <td>0.541667</td>\n",
       "      <td>KNeighborsClassifier(n_neighbors=1)</td>\n",
       "    </tr>\n",
       "    <tr>\n",
       "      <th>1</th>\n",
       "      <td>0.803571</td>\n",
       "      <td>0.541667</td>\n",
       "      <td>KNeighborsClassifier(n_neighbors=2)</td>\n",
       "    </tr>\n",
       "    <tr>\n",
       "      <th>2</th>\n",
       "      <td>0.839286</td>\n",
       "      <td>0.583333</td>\n",
       "      <td>KNeighborsClassifier(n_neighbors=3)</td>\n",
       "    </tr>\n",
       "    <tr>\n",
       "      <th>3</th>\n",
       "      <td>0.839286</td>\n",
       "      <td>0.583333</td>\n",
       "      <td>KNeighborsClassifier(n_neighbors=4)</td>\n",
       "    </tr>\n",
       "    <tr>\n",
       "      <th>4</th>\n",
       "      <td>0.785714</td>\n",
       "      <td>0.583333</td>\n",
       "      <td>KNeighborsClassifier()</td>\n",
       "    </tr>\n",
       "    <tr>\n",
       "      <th>5</th>\n",
       "      <td>0.785714</td>\n",
       "      <td>0.583333</td>\n",
       "      <td>KNeighborsClassifier(n_neighbors=6)</td>\n",
       "    </tr>\n",
       "    <tr>\n",
       "      <th>6</th>\n",
       "      <td>0.785714</td>\n",
       "      <td>0.625000</td>\n",
       "      <td>KNeighborsClassifier(n_neighbors=7)</td>\n",
       "    </tr>\n",
       "    <tr>\n",
       "      <th>7</th>\n",
       "      <td>0.785714</td>\n",
       "      <td>0.625000</td>\n",
       "      <td>KNeighborsClassifier(n_neighbors=8)</td>\n",
       "    </tr>\n",
       "    <tr>\n",
       "      <th>8</th>\n",
       "      <td>0.767857</td>\n",
       "      <td>0.625000</td>\n",
       "      <td>KNeighborsClassifier(n_neighbors=9)</td>\n",
       "    </tr>\n",
       "  </tbody>\n",
       "</table>\n",
       "</div>"
      ],
      "text/plain": [
       "   training_accuracy  test_accuracy                            estimator\n",
       "0           1.000000       0.541667  KNeighborsClassifier(n_neighbors=1)\n",
       "1           0.803571       0.541667  KNeighborsClassifier(n_neighbors=2)\n",
       "2           0.839286       0.583333  KNeighborsClassifier(n_neighbors=3)\n",
       "3           0.839286       0.583333  KNeighborsClassifier(n_neighbors=4)\n",
       "4           0.785714       0.583333               KNeighborsClassifier()\n",
       "5           0.785714       0.583333  KNeighborsClassifier(n_neighbors=6)\n",
       "6           0.785714       0.625000  KNeighborsClassifier(n_neighbors=7)\n",
       "7           0.785714       0.625000  KNeighborsClassifier(n_neighbors=8)\n",
       "8           0.767857       0.625000  KNeighborsClassifier(n_neighbors=9)"
      ]
     },
     "execution_count": 18,
     "metadata": {},
     "output_type": "execute_result"
    },
    {
     "data": {
      "image/png": "[encoded data removed]",
      "text/plain": [
       "<Figure size 432x288 with 1 Axes>"
      ]
     },
     "metadata": {
      "needs_background": "light"
     },
     "output_type": "display_data"
    }
   ],
   "source": [
    "results3, (Xtrain, Xtest, Ytrain, Ytest) = check_knn_accuracy(bin_data, bin_labels, return_split=True, state=0)\n",
    "results3"
   ]
  },
  {
   "cell_type": "code",
   "execution_count": 19,
   "metadata": {},
   "outputs": [
    {
     "name": "stdout",
     "output_type": "stream",
     "text": [
      "Самое оптимальный параметр n_neighbors:  7\n",
      "Лучший показатель accuracy без кросс валидации:  0.625\n"
     ]
    }
   ],
   "source": [
    "accuracy3 = results3['test_accuracy'].max()\n",
    "bin_best_n_neighbors = results3['test_accuracy'].argmax() + 1\n",
    "print('Самое оптимальный параметр n_neighbors: ', bin_best_n_neighbors)\n",
    "print(\"Лучший показатель accuracy без кросс валидации: \", accuracy3)"
   ]
  },
  {
   "cell_type": "code",
   "execution_count": 20,
   "metadata": {},
   "outputs": [
    {
     "data": {
      "text/html": [
       "<div>\n",
       "<style scoped>\n",
       "    .dataframe tbody tr th:only-of-type {\n",
       "        vertical-align: middle;\n",
       "    }\n",
       "\n",
       "    .dataframe tbody tr th {\n",
       "        vertical-align: top;\n",
       "    }\n",
       "\n",
       "    .dataframe thead th {\n",
       "        text-align: right;\n",
       "    }\n",
       "</style>\n",
       "<table border=\"1\" class=\"dataframe\">\n",
       "  <thead>\n",
       "    <tr style=\"text-align: right;\">\n",
       "      <th></th>\n",
       "      <th>fit_time</th>\n",
       "      <th>score_time</th>\n",
       "      <th>estimator</th>\n",
       "      <th>test_score</th>\n",
       "      <th>train_score</th>\n",
       "    </tr>\n",
       "  </thead>\n",
       "  <tbody>\n",
       "    <tr>\n",
       "      <th>0</th>\n",
       "      <td>0.005008</td>\n",
       "      <td>0.008987</td>\n",
       "      <td>KNeighborsClassifier(n_neighbors=7)</td>\n",
       "      <td>0.583333</td>\n",
       "      <td>0.739583</td>\n",
       "    </tr>\n",
       "    <tr>\n",
       "      <th>1</th>\n",
       "      <td>0.002997</td>\n",
       "      <td>0.007016</td>\n",
       "      <td>KNeighborsClassifier(n_neighbors=7)</td>\n",
       "      <td>0.541667</td>\n",
       "      <td>0.708333</td>\n",
       "    </tr>\n",
       "    <tr>\n",
       "      <th>2</th>\n",
       "      <td>0.003000</td>\n",
       "      <td>0.009027</td>\n",
       "      <td>KNeighborsClassifier(n_neighbors=7)</td>\n",
       "      <td>0.645833</td>\n",
       "      <td>0.755208</td>\n",
       "    </tr>\n",
       "    <tr>\n",
       "      <th>3</th>\n",
       "      <td>0.003009</td>\n",
       "      <td>0.004998</td>\n",
       "      <td>KNeighborsClassifier(n_neighbors=7)</td>\n",
       "      <td>0.625000</td>\n",
       "      <td>0.692708</td>\n",
       "    </tr>\n",
       "    <tr>\n",
       "      <th>4</th>\n",
       "      <td>0.005001</td>\n",
       "      <td>0.011008</td>\n",
       "      <td>KNeighborsClassifier(n_neighbors=7)</td>\n",
       "      <td>0.562500</td>\n",
       "      <td>0.734375</td>\n",
       "    </tr>\n",
       "  </tbody>\n",
       "</table>\n",
       "</div>"
      ],
      "text/plain": [
       "   fit_time  score_time                            estimator  test_score  \\\n",
       "0  0.005008    0.008987  KNeighborsClassifier(n_neighbors=7)    0.583333   \n",
       "1  0.002997    0.007016  KNeighborsClassifier(n_neighbors=7)    0.541667   \n",
       "2  0.003000    0.009027  KNeighborsClassifier(n_neighbors=7)    0.645833   \n",
       "3  0.003009    0.004998  KNeighborsClassifier(n_neighbors=7)    0.625000   \n",
       "4  0.005001    0.011008  KNeighborsClassifier(n_neighbors=7)    0.562500   \n",
       "\n",
       "   train_score  \n",
       "0     0.739583  \n",
       "1     0.708333  \n",
       "2     0.755208  \n",
       "3     0.692708  \n",
       "4     0.734375  "
      ]
     },
     "execution_count": 20,
     "metadata": {},
     "output_type": "execute_result"
    }
   ],
   "source": [
    "# 1.2 Кросс валидация\n",
    "results4 = cross_validate(KNeighborsClassifier(n_neighbors = bin_best_n_neighbors), data, labels, cv=5, \n",
    "                                scoring='accuracy', return_estimator=True, \n",
    "                                return_train_score=True)\n",
    "results4 = pd.DataFrame(results4)\n",
    "results4"
   ]
  },
  {
   "cell_type": "code",
   "execution_count": 21,
   "metadata": {},
   "outputs": [
    {
     "name": "stdout",
     "output_type": "stream",
     "text": [
      "Лучший показатель accuracy с кросс валидацией:  0.6458333333333334\n"
     ]
    }
   ],
   "source": [
    "accuracy4 = results4['test_score'].max()\n",
    "print(\"Лучший показатель accuracy с кросс валидацией: \", accuracy4)"
   ]
  },
  {
   "cell_type": "markdown",
   "metadata": {},
   "source": [
    "### Получение отчёта по обученной **бинарной** модели **без кросс валидации** с наибольшим accuracy"
   ]
  },
  {
   "cell_type": "code",
   "execution_count": 22,
   "metadata": {},
   "outputs": [
    {
     "name": "stdout",
     "output_type": "stream",
     "text": [
      "Отчёт по метрикам оценки мультиклассового классификации:\n",
      "              precision    recall  f1-score   support\n",
      "\n",
      "           0       0.75      0.60      0.67        15\n",
      "           1       0.50      0.67      0.57         9\n",
      "\n",
      "    accuracy                           0.62        24\n",
      "   macro avg       0.62      0.63      0.62        24\n",
      "weighted avg       0.66      0.62      0.63        24\n",
      "\n"
     ]
    },
    {
     "data": {
      "image/png": "[encoded data removed]",
      "text/plain": [
       "<Figure size 432x288 with 2 Axes>"
      ]
     },
     "metadata": {
      "needs_background": "light"
     },
     "output_type": "display_data"
    }
   ],
   "source": [
    "neighbors_model = results3[results3['test_accuracy'] == accuracy3]['estimator'].head(1).item()\n",
    "report_classification(neighbors_model, Xtest, Ytest)"
   ]
  },
  {
   "cell_type": "markdown",
   "metadata": {},
   "source": [
    "### Получение отчёта по обученной **бинарной** модели **кросс валидацией** с наибольшим accuracy"
   ]
  },
  {
   "cell_type": "code",
   "execution_count": 23,
   "metadata": {},
   "outputs": [
    {
     "name": "stdout",
     "output_type": "stream",
     "text": [
      "Отчёт по метрикам оценки мультиклассового классификации:\n",
      "              precision    recall  f1-score   support\n",
      "\n",
      "           0       0.82      0.60      0.69        15\n",
      "           1       0.54      0.78      0.64         9\n",
      "\n",
      "    accuracy                           0.67        24\n",
      "   macro avg       0.68      0.69      0.66        24\n",
      "weighted avg       0.71      0.67      0.67        24\n",
      "\n"
     ]
    },
    {
     "data": {
      "image/png": "[encoded data removed]",
      "text/plain": [
       "<Figure size 432x288 with 2 Axes>"
      ]
     },
     "metadata": {
      "needs_background": "light"
     },
     "output_type": "display_data"
    }
   ],
   "source": [
    "neighbors_model = results4[results4['test_score'] == accuracy4]['estimator'].item()\n",
    "report_classification(neighbors_model, Xtest, Ytest)"
   ]
  },
  {
   "cell_type": "markdown",
   "metadata": {
    "collapsed": false,
    "pycharm": {
     "name": "#%% md\n"
    }
   },
   "source": [
    "## **3. Использование нормализации признаков**\n",
    "В обоих задачах (бинарной и многоклассовой классификации) попробовать также вариант с предварительной нормализацией признаков (`StandardScaler`или `MinMaxScaler`). Оценить метрики качества в случае с нормализованными признаками и ненормализованными."
   ]
  },
  {
   "cell_type": "code",
   "execution_count": 24,
   "metadata": {
    "collapsed": false,
    "pycharm": {
     "name": "#%%\n"
    }
   },
   "outputs": [],
   "source": [
    "scaler = StandardScaler()\n",
    "scaled_mul_ds = scaler.fit_transform(data)\n",
    "scaled_bin_ds = scaler.fit_transform(bin_data)"
   ]
  },
  {
   "cell_type": "code",
   "execution_count": 25,
   "metadata": {},
   "outputs": [
    {
     "data": {
      "text/html": [
       "<div>\n",
       "<style scoped>\n",
       "    .dataframe tbody tr th:only-of-type {\n",
       "        vertical-align: middle;\n",
       "    }\n",
       "\n",
       "    .dataframe tbody tr th {\n",
       "        vertical-align: top;\n",
       "    }\n",
       "\n",
       "    .dataframe thead th {\n",
       "        text-align: right;\n",
       "    }\n",
       "</style>\n",
       "<table border=\"1\" class=\"dataframe\">\n",
       "  <thead>\n",
       "    <tr style=\"text-align: right;\">\n",
       "      <th></th>\n",
       "      <th>training_accuracy</th>\n",
       "      <th>test_accuracy</th>\n",
       "      <th>estimator</th>\n",
       "    </tr>\n",
       "  </thead>\n",
       "  <tbody>\n",
       "    <tr>\n",
       "      <th>0</th>\n",
       "      <td>1.000000</td>\n",
       "      <td>0.986111</td>\n",
       "      <td>KNeighborsClassifier(n_neighbors=1)</td>\n",
       "    </tr>\n",
       "    <tr>\n",
       "      <th>1</th>\n",
       "      <td>1.000000</td>\n",
       "      <td>0.986111</td>\n",
       "      <td>KNeighborsClassifier(n_neighbors=2)</td>\n",
       "    </tr>\n",
       "    <tr>\n",
       "      <th>2</th>\n",
       "      <td>0.994048</td>\n",
       "      <td>1.000000</td>\n",
       "      <td>KNeighborsClassifier(n_neighbors=3)</td>\n",
       "    </tr>\n",
       "    <tr>\n",
       "      <th>3</th>\n",
       "      <td>0.970238</td>\n",
       "      <td>0.972222</td>\n",
       "      <td>KNeighborsClassifier(n_neighbors=4)</td>\n",
       "    </tr>\n",
       "    <tr>\n",
       "      <th>4</th>\n",
       "      <td>0.976190</td>\n",
       "      <td>0.986111</td>\n",
       "      <td>KNeighborsClassifier()</td>\n",
       "    </tr>\n",
       "    <tr>\n",
       "      <th>5</th>\n",
       "      <td>0.964286</td>\n",
       "      <td>0.958333</td>\n",
       "      <td>KNeighborsClassifier(n_neighbors=6)</td>\n",
       "    </tr>\n",
       "    <tr>\n",
       "      <th>6</th>\n",
       "      <td>0.964286</td>\n",
       "      <td>0.972222</td>\n",
       "      <td>KNeighborsClassifier(n_neighbors=7)</td>\n",
       "    </tr>\n",
       "    <tr>\n",
       "      <th>7</th>\n",
       "      <td>0.970238</td>\n",
       "      <td>0.972222</td>\n",
       "      <td>KNeighborsClassifier(n_neighbors=8)</td>\n",
       "    </tr>\n",
       "    <tr>\n",
       "      <th>8</th>\n",
       "      <td>0.952381</td>\n",
       "      <td>0.972222</td>\n",
       "      <td>KNeighborsClassifier(n_neighbors=9)</td>\n",
       "    </tr>\n",
       "  </tbody>\n",
       "</table>\n",
       "</div>"
      ],
      "text/plain": [
       "   training_accuracy  test_accuracy                            estimator\n",
       "0           1.000000       0.986111  KNeighborsClassifier(n_neighbors=1)\n",
       "1           1.000000       0.986111  KNeighborsClassifier(n_neighbors=2)\n",
       "2           0.994048       1.000000  KNeighborsClassifier(n_neighbors=3)\n",
       "3           0.970238       0.972222  KNeighborsClassifier(n_neighbors=4)\n",
       "4           0.976190       0.986111               KNeighborsClassifier()\n",
       "5           0.964286       0.958333  KNeighborsClassifier(n_neighbors=6)\n",
       "6           0.964286       0.972222  KNeighborsClassifier(n_neighbors=7)\n",
       "7           0.970238       0.972222  KNeighborsClassifier(n_neighbors=8)\n",
       "8           0.952381       0.972222  KNeighborsClassifier(n_neighbors=9)"
      ]
     },
     "execution_count": 25,
     "metadata": {},
     "output_type": "execute_result"
    },
    {
     "data": {
      "image/png": "[encoded data removed]",
      "text/plain": [
       "<Figure size 432x288 with 1 Axes>"
      ]
     },
     "metadata": {
      "needs_background": "light"
     },
     "output_type": "display_data"
    }
   ],
   "source": [
    "results5, (Xtrain, Xtest, Ytrain, Ytest) = check_knn_accuracy(scaled_mul_ds, labels, return_split=True, state=0)\n",
    "results5"
   ]
  },
  {
   "cell_type": "code",
   "execution_count": 26,
   "metadata": {},
   "outputs": [
    {
     "name": "stdout",
     "output_type": "stream",
     "text": [
      "Самое оптимальный параметр n_neighbors:  3\n",
      "Лучший показатель accuracy без кросс валидации:  1.0\n"
     ]
    }
   ],
   "source": [
    "accuracy5 = results5['test_accuracy'].max()\n",
    "scaled_best_n_neighbors = results5['test_accuracy'].argmax() + 1\n",
    "print('Самое оптимальный параметр n_neighbors: ', scaled_best_n_neighbors)\n",
    "print(\"Лучший показатель accuracy без кросс валидации: \", accuracy5)"
   ]
  },
  {
   "cell_type": "code",
   "execution_count": 27,
   "metadata": {},
   "outputs": [
    {
     "name": "stdout",
     "output_type": "stream",
     "text": [
      "Отчёт по метрикам оценки мультиклассового классификации:\n",
      "              precision    recall  f1-score   support\n",
      "\n",
      "           0       1.00      1.00      1.00        10\n",
      "           1       1.00      1.00      1.00        13\n",
      "           2       1.00      1.00      1.00         8\n",
      "           3       1.00      1.00      1.00        16\n",
      "           4       1.00      1.00      1.00        13\n",
      "           5       1.00      1.00      1.00        12\n",
      "\n",
      "    accuracy                           1.00        72\n",
      "   macro avg       1.00      1.00      1.00        72\n",
      "weighted avg       1.00      1.00      1.00        72\n",
      "\n"
     ]
    },
    {
     "data": {
      "image/png": "[encoded data removed]",
      "text/plain": [
       "<Figure size 432x288 with 2 Axes>"
      ]
     },
     "metadata": {
      "needs_background": "light"
     },
     "output_type": "display_data"
    }
   ],
   "source": [
    "neighbors_model = results5[results5['test_accuracy'] == accuracy5]['estimator'].head(1).item()\n",
    "report_classification(neighbors_model, Xtest, Ytest)"
   ]
  },
  {
   "cell_type": "code",
   "execution_count": 28,
   "metadata": {},
   "outputs": [
    {
     "data": {
      "text/html": [
       "<div>\n",
       "<style scoped>\n",
       "    .dataframe tbody tr th:only-of-type {\n",
       "        vertical-align: middle;\n",
       "    }\n",
       "\n",
       "    .dataframe tbody tr th {\n",
       "        vertical-align: top;\n",
       "    }\n",
       "\n",
       "    .dataframe thead th {\n",
       "        text-align: right;\n",
       "    }\n",
       "</style>\n",
       "<table border=\"1\" class=\"dataframe\">\n",
       "  <thead>\n",
       "    <tr style=\"text-align: right;\">\n",
       "      <th></th>\n",
       "      <th>training_accuracy</th>\n",
       "      <th>test_accuracy</th>\n",
       "      <th>estimator</th>\n",
       "    </tr>\n",
       "  </thead>\n",
       "  <tbody>\n",
       "    <tr>\n",
       "      <th>0</th>\n",
       "      <td>1.000000</td>\n",
       "      <td>1.000000</td>\n",
       "      <td>KNeighborsClassifier(n_neighbors=1)</td>\n",
       "    </tr>\n",
       "    <tr>\n",
       "      <th>1</th>\n",
       "      <td>0.982143</td>\n",
       "      <td>1.000000</td>\n",
       "      <td>KNeighborsClassifier(n_neighbors=2)</td>\n",
       "    </tr>\n",
       "    <tr>\n",
       "      <th>2</th>\n",
       "      <td>0.982143</td>\n",
       "      <td>1.000000</td>\n",
       "      <td>KNeighborsClassifier(n_neighbors=3)</td>\n",
       "    </tr>\n",
       "    <tr>\n",
       "      <th>3</th>\n",
       "      <td>0.982143</td>\n",
       "      <td>1.000000</td>\n",
       "      <td>KNeighborsClassifier(n_neighbors=4)</td>\n",
       "    </tr>\n",
       "    <tr>\n",
       "      <th>4</th>\n",
       "      <td>0.982143</td>\n",
       "      <td>1.000000</td>\n",
       "      <td>KNeighborsClassifier()</td>\n",
       "    </tr>\n",
       "    <tr>\n",
       "      <th>5</th>\n",
       "      <td>0.982143</td>\n",
       "      <td>0.958333</td>\n",
       "      <td>KNeighborsClassifier(n_neighbors=6)</td>\n",
       "    </tr>\n",
       "    <tr>\n",
       "      <th>6</th>\n",
       "      <td>0.982143</td>\n",
       "      <td>0.958333</td>\n",
       "      <td>KNeighborsClassifier(n_neighbors=7)</td>\n",
       "    </tr>\n",
       "    <tr>\n",
       "      <th>7</th>\n",
       "      <td>0.982143</td>\n",
       "      <td>0.958333</td>\n",
       "      <td>KNeighborsClassifier(n_neighbors=8)</td>\n",
       "    </tr>\n",
       "    <tr>\n",
       "      <th>8</th>\n",
       "      <td>0.982143</td>\n",
       "      <td>0.958333</td>\n",
       "      <td>KNeighborsClassifier(n_neighbors=9)</td>\n",
       "    </tr>\n",
       "  </tbody>\n",
       "</table>\n",
       "</div>"
      ],
      "text/plain": [
       "   training_accuracy  test_accuracy                            estimator\n",
       "0           1.000000       1.000000  KNeighborsClassifier(n_neighbors=1)\n",
       "1           0.982143       1.000000  KNeighborsClassifier(n_neighbors=2)\n",
       "2           0.982143       1.000000  KNeighborsClassifier(n_neighbors=3)\n",
       "3           0.982143       1.000000  KNeighborsClassifier(n_neighbors=4)\n",
       "4           0.982143       1.000000               KNeighborsClassifier()\n",
       "5           0.982143       0.958333  KNeighborsClassifier(n_neighbors=6)\n",
       "6           0.982143       0.958333  KNeighborsClassifier(n_neighbors=7)\n",
       "7           0.982143       0.958333  KNeighborsClassifier(n_neighbors=8)\n",
       "8           0.982143       0.958333  KNeighborsClassifier(n_neighbors=9)"
      ]
     },
     "execution_count": 28,
     "metadata": {},
     "output_type": "execute_result"
    },
    {
     "data": {
      "image/png": "[encoded data removed]",
      "text/plain": [
       "<Figure size 432x288 with 1 Axes>"
      ]
     },
     "metadata": {
      "needs_background": "light"
     },
     "output_type": "display_data"
    }
   ],
   "source": [
    "results6, (Xtrain, Xtest, Ytrain, Ytest) = check_knn_accuracy(scaled_bin_ds, bin_labels, return_split=True, state=0)\n",
    "results6"
   ]
  },
  {
   "cell_type": "code",
   "execution_count": 29,
   "metadata": {},
   "outputs": [
    {
     "name": "stdout",
     "output_type": "stream",
     "text": [
      "Самое оптимальный параметр n_neighbors:  1\n",
      "Лучший показатель accuracy без кросс валидации:  1.0\n"
     ]
    }
   ],
   "source": [
    "accuracy6 = results6['test_accuracy'].max()\n",
    "scaled_bin_best_n_neighbors = results6['test_accuracy'].argmax() + 1\n",
    "print('Самое оптимальный параметр n_neighbors: ', scaled_bin_best_n_neighbors)\n",
    "print(\"Лучший показатель accuracy без кросс валидации: \", accuracy6)"
   ]
  },
  {
   "cell_type": "code",
   "execution_count": 30,
   "metadata": {},
   "outputs": [
    {
     "name": "stdout",
     "output_type": "stream",
     "text": [
      "Отчёт по метрикам оценки мультиклассового классификации:\n",
      "              precision    recall  f1-score   support\n",
      "\n",
      "           0       1.00      1.00      1.00        15\n",
      "           1       1.00      1.00      1.00         9\n",
      "\n",
      "    accuracy                           1.00        24\n",
      "   macro avg       1.00      1.00      1.00        24\n",
      "weighted avg       1.00      1.00      1.00        24\n",
      "\n"
     ]
    },
    {
     "data": {
      "image/png": "[encoded data removed]",
      "text/plain": [
       "<Figure size 432x288 with 2 Axes>"
      ]
     },
     "metadata": {
      "needs_background": "light"
     },
     "output_type": "display_data"
    }
   ],
   "source": [
    "neighbors_model = results6[results6['test_accuracy'] == accuracy6]['estimator'].head(1).item()\n",
    "report_classification(neighbors_model, Xtest, Ytest)"
   ]
  },
  {
   "cell_type": "markdown",
   "metadata": {},
   "source": [
    "# Вывод\n",
    "\n",
    "Нормализация данных и кросс валидация помогают лучше обучить модель"
   ]
  },
  {
   "cell_type": "code",
   "execution_count": 31,
   "metadata": {},
   "outputs": [
    {
     "data": {
      "text/html": [
       "<div>\n",
       "<style scoped>\n",
       "    .dataframe tbody tr th:only-of-type {\n",
       "        vertical-align: middle;\n",
       "    }\n",
       "\n",
       "    .dataframe tbody tr th {\n",
       "        vertical-align: top;\n",
       "    }\n",
       "\n",
       "    .dataframe thead th {\n",
       "        text-align: right;\n",
       "    }\n",
       "</style>\n",
       "<table border=\"1\" class=\"dataframe\">\n",
       "  <thead>\n",
       "    <tr style=\"text-align: right;\">\n",
       "      <th></th>\n",
       "      <th>accuracies</th>\n",
       "    </tr>\n",
       "  </thead>\n",
       "  <tbody>\n",
       "    <tr>\n",
       "      <th>acc1</th>\n",
       "      <td>0.694444</td>\n",
       "    </tr>\n",
       "    <tr>\n",
       "      <th>acc2</th>\n",
       "      <td>0.791667</td>\n",
       "    </tr>\n",
       "    <tr>\n",
       "      <th>acc3</th>\n",
       "      <td>0.625000</td>\n",
       "    </tr>\n",
       "    <tr>\n",
       "      <th>acc4</th>\n",
       "      <td>0.645833</td>\n",
       "    </tr>\n",
       "    <tr>\n",
       "      <th>acc5</th>\n",
       "      <td>1.000000</td>\n",
       "    </tr>\n",
       "    <tr>\n",
       "      <th>acc6</th>\n",
       "      <td>1.000000</td>\n",
       "    </tr>\n",
       "  </tbody>\n",
       "</table>\n",
       "</div>"
      ],
      "text/plain": [
       "      accuracies\n",
       "acc1    0.694444\n",
       "acc2    0.791667\n",
       "acc3    0.625000\n",
       "acc4    0.645833\n",
       "acc5    1.000000\n",
       "acc6    1.000000"
      ]
     },
     "execution_count": 31,
     "metadata": {},
     "output_type": "execute_result"
    }
   ],
   "source": [
    "accuracies = pd.DataFrame([accuracy1, accuracy2, accuracy3, accuracy4, accuracy5, accuracy6], \n",
    "                            index=['acc1', 'acc2', 'acc3', 'acc4', 'acc5', 'acc6'], columns=['accuracies'])\n",
    "accuracies"
   ]
  }
 ],
 "metadata": {
  "kernelspec": {
   "display_name": "Python 3",
   "language": "python",
   "name": "python3"
  },
  "language_info": {
   "codemirror_mode": {
    "name": "ipython",
    "version": 3
   },
   "file_extension": ".py",
   "mimetype": "text/x-python",
   "name": "python",
   "nbconvert_exporter": "python",
   "pygments_lexer": "ipython3",
   "version": "3.9.5"
  }
 },
 "nbformat": 4,
 "nbformat_minor": 0
}
